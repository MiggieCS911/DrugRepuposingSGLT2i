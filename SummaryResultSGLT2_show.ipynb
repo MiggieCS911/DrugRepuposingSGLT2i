{
  "nbformat": 4,
  "nbformat_minor": 0,
  "metadata": {
    "colab": {
      "name": "SummaryResultSGLT2_show.ipynb",
      "provenance": [],
      "machine_shape": "hm",
      "mount_file_id": "1GtwNbqpfpRDnOJOib_P5sA25Wd-DLFAY",
      "authorship_tag": "ABX9TyM1jb1fz0ImMfgtsuI0PIoV",
      "include_colab_link": true
    },
    "kernelspec": {
      "name": "python3",
      "display_name": "Python 3"
    },
    "language_info": {
      "name": "python"
    }
  },
  "cells": [
    {
      "cell_type": "markdown",
      "metadata": {
        "id": "view-in-github",
        "colab_type": "text"
      },
      "source": [
        "<a href=\"https://colab.research.google.com/github/MiggieCS911/DrugRepuposingSGLT2i/blob/main/SummaryResultSGLT2_show.ipynb\" target=\"_parent\"><img src=\"https://colab.research.google.com/assets/colab-badge.svg\" alt=\"Open In Colab\"/></a>"
      ]
    },
    {
      "cell_type": "code",
      "metadata": {
        "id": "VzQj4_vJZCGG"
      },
      "source": [
        "import numpy as np\n",
        "import pandas as pd\n",
        "import matplotlib.pyplot as plt\n",
        "import seaborn as sns\n",
        "%matplotlib inline"
      ],
      "execution_count": null,
      "outputs": []
    },
    {
      "cell_type": "markdown",
      "metadata": {
        "id": "QfdRzesJZlJs"
      },
      "source": [
        "open active data from XGBoost model"
      ]
    },
    {
      "cell_type": "code",
      "metadata": {
        "id": "AllYwhg-Zieo"
      },
      "source": [
        "df1 = pd.read_csv('/content/drive/MyDrive/AI for drug/block_SGLT2/data/active0_10000XGB.csv')\n",
        "df2 = pd.read_csv('/content/drive/MyDrive/AI for drug/block_SGLT2/data/active10000_20000XGB.csv')\n",
        "df3 = pd.read_csv('/content/drive/MyDrive/AI for drug/block_SGLT2/data/active12000_20000XGB.csv')\n",
        "df4 = pd.read_csv('/content/drive/MyDrive/AI for drug/block_SGLT2/data/active20000_40000XGB.csv')\n",
        "df5 = pd.read_csv('/content/drive/MyDrive/AI for drug/block_SGLT2/data/active40000_60000XGB.csv')\n",
        "concatlist = [df1,df2,df3,df4,df5]\n",
        "df = pd.concat(concatlist)"
      ],
      "execution_count": null,
      "outputs": []
    },
    {
      "cell_type": "code",
      "metadata": {
        "colab": {
          "base_uri": "https://localhost:8080/",
          "height": 423
        },
        "id": "fYhXcUfsawnl",
        "outputId": "f821e434-b17a-428f-f92c-9cca31a9525e"
      },
      "source": [
        "df"
      ],
      "execution_count": null,
      "outputs": [
        {
          "output_type": "execute_result",
          "data": {
            "text/html": [
              "<div>\n",
              "<style scoped>\n",
              "    .dataframe tbody tr th:only-of-type {\n",
              "        vertical-align: middle;\n",
              "    }\n",
              "\n",
              "    .dataframe tbody tr th {\n",
              "        vertical-align: top;\n",
              "    }\n",
              "\n",
              "    .dataframe thead th {\n",
              "        text-align: right;\n",
              "    }\n",
              "</style>\n",
              "<table border=\"1\" class=\"dataframe\">\n",
              "  <thead>\n",
              "    <tr style=\"text-align: right;\">\n",
              "      <th></th>\n",
              "      <th>smiles</th>\n",
              "      <th>prob_active</th>\n",
              "    </tr>\n",
              "  </thead>\n",
              "  <tbody>\n",
              "    <tr>\n",
              "      <th>0</th>\n",
              "      <td>COc1ccc(F)cc1S(=O)(=O)Nc1cnc2ccccc2c1</td>\n",
              "      <td>0.632879</td>\n",
              "    </tr>\n",
              "    <tr>\n",
              "      <th>1</th>\n",
              "      <td>Clc1cccc(Nc2nc(-c3ccncc3)cs2)c1</td>\n",
              "      <td>0.559273</td>\n",
              "    </tr>\n",
              "    <tr>\n",
              "      <th>2</th>\n",
              "      <td>O=S(=O)(c1ccc2c(c1)OCCO2)N1CCN(S(=O)(=O)c2ccc3...</td>\n",
              "      <td>0.804066</td>\n",
              "    </tr>\n",
              "    <tr>\n",
              "      <th>3</th>\n",
              "      <td>CN(C)c1cc[n+](Cc2c(Cl)cccc2Cl)cc1</td>\n",
              "      <td>0.620101</td>\n",
              "    </tr>\n",
              "    <tr>\n",
              "      <th>4</th>\n",
              "      <td>Oc1cnnc2nc3ccccc3n12</td>\n",
              "      <td>0.505468</td>\n",
              "    </tr>\n",
              "    <tr>\n",
              "      <th>...</th>\n",
              "      <td>...</td>\n",
              "      <td>...</td>\n",
              "    </tr>\n",
              "    <tr>\n",
              "      <th>447</th>\n",
              "      <td>CCc1ccc(C)cc1</td>\n",
              "      <td>0.508447</td>\n",
              "    </tr>\n",
              "    <tr>\n",
              "      <th>448</th>\n",
              "      <td>C[C@]12CC[C@H]3[C@@H](CC[C@H]4C[C@H](O)CC[C@@]...</td>\n",
              "      <td>0.675065</td>\n",
              "    </tr>\n",
              "    <tr>\n",
              "      <th>449</th>\n",
              "      <td>Cc1csc2c(N3CCN(C(=O)Nc4ccc(OC(F)(F)F)cc4)CC3)n...</td>\n",
              "      <td>0.604356</td>\n",
              "    </tr>\n",
              "    <tr>\n",
              "      <th>450</th>\n",
              "      <td>C[C@]12CC[C@@H]3c4ccccc4CC[C@H]3[C@@H]1CC[C@@H]2O</td>\n",
              "      <td>0.652282</td>\n",
              "    </tr>\n",
              "    <tr>\n",
              "      <th>451</th>\n",
              "      <td>C[C@]12CC[C@H]3[C@@H](CCC4=C[C@@H](O)CC[C@@]43...</td>\n",
              "      <td>0.664692</td>\n",
              "    </tr>\n",
              "  </tbody>\n",
              "</table>\n",
              "<p>1825 rows × 2 columns</p>\n",
              "</div>"
            ],
            "text/plain": [
              "                                                smiles  prob_active\n",
              "0                COc1ccc(F)cc1S(=O)(=O)Nc1cnc2ccccc2c1     0.632879\n",
              "1                      Clc1cccc(Nc2nc(-c3ccncc3)cs2)c1     0.559273\n",
              "2    O=S(=O)(c1ccc2c(c1)OCCO2)N1CCN(S(=O)(=O)c2ccc3...     0.804066\n",
              "3                    CN(C)c1cc[n+](Cc2c(Cl)cccc2Cl)cc1     0.620101\n",
              "4                                 Oc1cnnc2nc3ccccc3n12     0.505468\n",
              "..                                                 ...          ...\n",
              "447                                      CCc1ccc(C)cc1     0.508447\n",
              "448  C[C@]12CC[C@H]3[C@@H](CC[C@H]4C[C@H](O)CC[C@@]...     0.675065\n",
              "449  Cc1csc2c(N3CCN(C(=O)Nc4ccc(OC(F)(F)F)cc4)CC3)n...     0.604356\n",
              "450  C[C@]12CC[C@@H]3c4ccccc4CC[C@H]3[C@@H]1CC[C@@H]2O     0.652282\n",
              "451  C[C@]12CC[C@H]3[C@@H](CCC4=C[C@@H](O)CC[C@@]43...     0.664692\n",
              "\n",
              "[1825 rows x 2 columns]"
            ]
          },
          "metadata": {},
          "execution_count": 10
        }
      ]
    },
    {
      "cell_type": "code",
      "metadata": {
        "id": "PWPWHFl9axXy"
      },
      "source": [
        "df = df.drop_duplicates('smiles', keep='first').copy()"
      ],
      "execution_count": null,
      "outputs": []
    },
    {
      "cell_type": "code",
      "metadata": {
        "colab": {
          "base_uri": "https://localhost:8080/",
          "height": 423
        },
        "id": "omf7yoYQa8Pc",
        "outputId": "7e900c37-8d11-4b73-92fb-929818451ca5"
      },
      "source": [
        "df"
      ],
      "execution_count": null,
      "outputs": [
        {
          "output_type": "execute_result",
          "data": {
            "text/html": [
              "<div>\n",
              "<style scoped>\n",
              "    .dataframe tbody tr th:only-of-type {\n",
              "        vertical-align: middle;\n",
              "    }\n",
              "\n",
              "    .dataframe tbody tr th {\n",
              "        vertical-align: top;\n",
              "    }\n",
              "\n",
              "    .dataframe thead th {\n",
              "        text-align: right;\n",
              "    }\n",
              "</style>\n",
              "<table border=\"1\" class=\"dataframe\">\n",
              "  <thead>\n",
              "    <tr style=\"text-align: right;\">\n",
              "      <th></th>\n",
              "      <th>smiles</th>\n",
              "      <th>prob_active</th>\n",
              "    </tr>\n",
              "  </thead>\n",
              "  <tbody>\n",
              "    <tr>\n",
              "      <th>0</th>\n",
              "      <td>COc1ccc(F)cc1S(=O)(=O)Nc1cnc2ccccc2c1</td>\n",
              "      <td>0.632879</td>\n",
              "    </tr>\n",
              "    <tr>\n",
              "      <th>1</th>\n",
              "      <td>Clc1cccc(Nc2nc(-c3ccncc3)cs2)c1</td>\n",
              "      <td>0.559273</td>\n",
              "    </tr>\n",
              "    <tr>\n",
              "      <th>2</th>\n",
              "      <td>O=S(=O)(c1ccc2c(c1)OCCO2)N1CCN(S(=O)(=O)c2ccc3...</td>\n",
              "      <td>0.804066</td>\n",
              "    </tr>\n",
              "    <tr>\n",
              "      <th>3</th>\n",
              "      <td>CN(C)c1cc[n+](Cc2c(Cl)cccc2Cl)cc1</td>\n",
              "      <td>0.620101</td>\n",
              "    </tr>\n",
              "    <tr>\n",
              "      <th>4</th>\n",
              "      <td>Oc1cnnc2nc3ccccc3n12</td>\n",
              "      <td>0.505468</td>\n",
              "    </tr>\n",
              "    <tr>\n",
              "      <th>...</th>\n",
              "      <td>...</td>\n",
              "      <td>...</td>\n",
              "    </tr>\n",
              "    <tr>\n",
              "      <th>895</th>\n",
              "      <td>N#C/C(=C\\c1ccc(O)c(O)c1)C(=O)NCCCCc1ccccc1</td>\n",
              "      <td>0.594147</td>\n",
              "    </tr>\n",
              "    <tr>\n",
              "      <th>896</th>\n",
              "      <td>COc1cc2c(cc1OC)CN(C(=O)c1ccc(-c3ccccc3)cc1)CC2</td>\n",
              "      <td>0.590503</td>\n",
              "    </tr>\n",
              "    <tr>\n",
              "      <th>897</th>\n",
              "      <td>CNC(=O)Oc1ccccc1OC(C)C</td>\n",
              "      <td>0.520585</td>\n",
              "    </tr>\n",
              "    <tr>\n",
              "      <th>898</th>\n",
              "      <td>C[C@]12CC[C@H]3[C@@H](CC=C4C[C@@H](O)CC[C@@]43...</td>\n",
              "      <td>0.719088</td>\n",
              "    </tr>\n",
              "    <tr>\n",
              "      <th>899</th>\n",
              "      <td>Nc1ncnc2c1ncn2[C@@H]1O[C@H](/C=C\\I)[C@H](O)[C@...</td>\n",
              "      <td>0.544608</td>\n",
              "    </tr>\n",
              "  </tbody>\n",
              "</table>\n",
              "<p>894 rows × 2 columns</p>\n",
              "</div>"
            ],
            "text/plain": [
              "                                                smiles  prob_active\n",
              "0                COc1ccc(F)cc1S(=O)(=O)Nc1cnc2ccccc2c1     0.632879\n",
              "1                      Clc1cccc(Nc2nc(-c3ccncc3)cs2)c1     0.559273\n",
              "2    O=S(=O)(c1ccc2c(c1)OCCO2)N1CCN(S(=O)(=O)c2ccc3...     0.804066\n",
              "3                    CN(C)c1cc[n+](Cc2c(Cl)cccc2Cl)cc1     0.620101\n",
              "4                                 Oc1cnnc2nc3ccccc3n12     0.505468\n",
              "..                                                 ...          ...\n",
              "895         N#C/C(=C\\c1ccc(O)c(O)c1)C(=O)NCCCCc1ccccc1     0.594147\n",
              "896     COc1cc2c(cc1OC)CN(C(=O)c1ccc(-c3ccccc3)cc1)CC2     0.590503\n",
              "897                             CNC(=O)Oc1ccccc1OC(C)C     0.520585\n",
              "898  C[C@]12CC[C@H]3[C@@H](CC=C4C[C@@H](O)CC[C@@]43...     0.719088\n",
              "899  Nc1ncnc2c1ncn2[C@@H]1O[C@H](/C=C\\I)[C@H](O)[C@...     0.544608\n",
              "\n",
              "[894 rows x 2 columns]"
            ]
          },
          "metadata": {},
          "execution_count": 13
        }
      ]
    },
    {
      "cell_type": "code",
      "metadata": {
        "colab": {
          "base_uri": "https://localhost:8080/"
        },
        "id": "oXygkhxrbP8-",
        "outputId": "4f2f88e4-e02d-4c67-a481-8b4dcdb38d77"
      },
      "source": [
        "df.shape"
      ],
      "execution_count": null,
      "outputs": [
        {
          "output_type": "execute_result",
          "data": {
            "text/plain": [
              "(894, 2)"
            ]
          },
          "metadata": {},
          "execution_count": 15
        }
      ]
    },
    {
      "cell_type": "code",
      "metadata": {
        "colab": {
          "base_uri": "https://localhost:8080/",
          "height": 282
        },
        "id": "GsXqQxiIbeE1",
        "outputId": "25dde269-666e-4504-ab97-c852f0953519"
      },
      "source": [
        "df['prob_active'].hist(bins=30)"
      ],
      "execution_count": null,
      "outputs": [
        {
          "output_type": "execute_result",
          "data": {
            "text/plain": [
              "<matplotlib.axes._subplots.AxesSubplot at 0x7f71d2d2dfd0>"
            ]
          },
          "metadata": {},
          "execution_count": 19
        },
        {
          "output_type": "display_data",
          "data": {
            "image/png": "[encoded data removed]",
            "text/plain": [
              "<Figure size 432x288 with 1 Axes>"
            ]
          },
          "metadata": {
            "needs_background": "light"
          }
        }
      ]
    },
    {
      "cell_type": "code",
      "metadata": {
        "id": "ruiuMWv-bDA5"
      },
      "source": [
        "#select pron of active > 90%\n",
        "highactivedf = df[df['prob_active'] > 0.9].copy()"
      ],
      "execution_count": null,
      "outputs": []
    },
    {
      "cell_type": "code",
      "metadata": {
        "colab": {
          "base_uri": "https://localhost:8080/",
          "height": 1000
        },
        "id": "Hzshn7vVbMZL",
        "outputId": "2f519464-5dd8-49b4-a99e-4fad75f99d59"
      },
      "source": [
        "highactivedf"
      ],
      "execution_count": null,
      "outputs": [
        {
          "output_type": "execute_result",
          "data": {
            "text/html": [
              "<div>\n",
              "<style scoped>\n",
              "    .dataframe tbody tr th:only-of-type {\n",
              "        vertical-align: middle;\n",
              "    }\n",
              "\n",
              "    .dataframe tbody tr th {\n",
              "        vertical-align: top;\n",
              "    }\n",
              "\n",
              "    .dataframe thead th {\n",
              "        text-align: right;\n",
              "    }\n",
              "</style>\n",
              "<table border=\"1\" class=\"dataframe\">\n",
              "  <thead>\n",
              "    <tr style=\"text-align: right;\">\n",
              "      <th></th>\n",
              "      <th>smiles</th>\n",
              "      <th>prob_active</th>\n",
              "    </tr>\n",
              "  </thead>\n",
              "  <tbody>\n",
              "    <tr>\n",
              "      <th>8</th>\n",
              "      <td>COc1cc2c(cc1O)Cc1c-2[n+](C)cc2cc(OC)c(OC)cc12</td>\n",
              "      <td>0.933992</td>\n",
              "    </tr>\n",
              "    <tr>\n",
              "      <th>74</th>\n",
              "      <td>COc1cc2c(cc1O)CCC1C2CCC2(C)C(O)CCC12</td>\n",
              "      <td>0.935795</td>\n",
              "    </tr>\n",
              "    <tr>\n",
              "      <th>116</th>\n",
              "      <td>C=CCN1CCc2c(cc(O)c(O)c2Cl)C(c2ccccc2)C1</td>\n",
              "      <td>0.938907</td>\n",
              "    </tr>\n",
              "    <tr>\n",
              "      <th>126</th>\n",
              "      <td>C=Cc1c(C)c(O)cc2c1-c1ccc(O)c(C)c1CC2</td>\n",
              "      <td>0.907652</td>\n",
              "    </tr>\n",
              "    <tr>\n",
              "      <th>142</th>\n",
              "      <td>Oc1cc(Cl)ccc1Oc1ccc(Cl)cc1Cl</td>\n",
              "      <td>0.928241</td>\n",
              "    </tr>\n",
              "    <tr>\n",
              "      <th>150</th>\n",
              "      <td>Oc1cc(O)c2c(c1)O[C@H](c1cc(O)c(O)c(O)c1)[C@H](...</td>\n",
              "      <td>0.942900</td>\n",
              "    </tr>\n",
              "    <tr>\n",
              "      <th>154</th>\n",
              "      <td>COc1cc(C(C)c2cc3c(cc2OCCO)OCO3)cc(OC)c1OC</td>\n",
              "      <td>0.932551</td>\n",
              "    </tr>\n",
              "    <tr>\n",
              "      <th>183</th>\n",
              "      <td>CC(C)=Cc1cc2c(cc1O)CCC1C2CC[C@@]2(C)C1CC[C@@H]2O</td>\n",
              "      <td>0.954123</td>\n",
              "    </tr>\n",
              "    <tr>\n",
              "      <th>187</th>\n",
              "      <td>COc1ccccc1OCC(O)CO</td>\n",
              "      <td>0.959967</td>\n",
              "    </tr>\n",
              "    <tr>\n",
              "      <th>189</th>\n",
              "      <td>CCCCc1cc2c(cc1O)CCC1C2CC[C@@]2(C)C1CC[C@@H]2O</td>\n",
              "      <td>0.959111</td>\n",
              "    </tr>\n",
              "    <tr>\n",
              "      <th>195</th>\n",
              "      <td>CC(C)Cc1cc2c(cc1O)CCC1C2CC[C@@]2(C)C1CC[C@@H]2O</td>\n",
              "      <td>0.959111</td>\n",
              "    </tr>\n",
              "    <tr>\n",
              "      <th>216</th>\n",
              "      <td>CC(C)(C)NC[C@H](O)c1ccc(O)c(CO)c1</td>\n",
              "      <td>0.912856</td>\n",
              "    </tr>\n",
              "    <tr>\n",
              "      <th>227</th>\n",
              "      <td>COc1cc(/C=C/c2ccc(C)cc2)cc(OC)c1OC</td>\n",
              "      <td>0.911201</td>\n",
              "    </tr>\n",
              "    <tr>\n",
              "      <th>231</th>\n",
              "      <td>CCc1ccc(/C=C\\c2cc(OC)c(OC)c(OC)c2)cc1</td>\n",
              "      <td>0.911201</td>\n",
              "    </tr>\n",
              "    <tr>\n",
              "      <th>265</th>\n",
              "      <td>Cc1ccc(C)c(Nc2nc(N/N=C/c3cc(Br)c(O)c(Br)c3C)nc...</td>\n",
              "      <td>0.948528</td>\n",
              "    </tr>\n",
              "    <tr>\n",
              "      <th>338</th>\n",
              "      <td>Oc1cc(O)c2c(c1)O[C@H](c1cc(O)c(O)c(O)c1)[C@@H]...</td>\n",
              "      <td>0.942900</td>\n",
              "    </tr>\n",
              "    <tr>\n",
              "      <th>383</th>\n",
              "      <td>COc1cc2c(cc1OC)C(=O)/C(=C/c1cc(C)c(O)c(C)c1)C2</td>\n",
              "      <td>0.927187</td>\n",
              "    </tr>\n",
              "    <tr>\n",
              "      <th>385</th>\n",
              "      <td>COC(CCc1ccccc1)c1ccccc1OCC(O)CN1CCOCC1</td>\n",
              "      <td>0.920230</td>\n",
              "    </tr>\n",
              "    <tr>\n",
              "      <th>401</th>\n",
              "      <td>COc1ccc2c(c1O)-c1cccc3c1[C@@H](C2)N(C)CC3</td>\n",
              "      <td>0.944891</td>\n",
              "    </tr>\n",
              "    <tr>\n",
              "      <th>404</th>\n",
              "      <td>N/C(=N\\O)N/N=C/c1cc2c(cc1Cl)OCO2</td>\n",
              "      <td>0.906370</td>\n",
              "    </tr>\n",
              "    <tr>\n",
              "      <th>436</th>\n",
              "      <td>COc1cc(/C=C(\\C#N)C(=O)Nc2nnc(C(F)(F)F)s2)ccc1O...</td>\n",
              "      <td>0.936171</td>\n",
              "    </tr>\n",
              "    <tr>\n",
              "      <th>455</th>\n",
              "      <td>Cc1ccc(OC[C@H](O)[C@H](C)NC(C)C)c2c1CCC2</td>\n",
              "      <td>0.925478</td>\n",
              "    </tr>\n",
              "    <tr>\n",
              "      <th>476</th>\n",
              "      <td>Cc1cc(Cc2cc(C)c(O)c(CO)c2)cc(CO)c1O</td>\n",
              "      <td>0.965677</td>\n",
              "    </tr>\n",
              "    <tr>\n",
              "      <th>481</th>\n",
              "      <td>COc1cc2c(cc1OC)CN(C(=O)N1CCN(C(C)C)CC1)CC2</td>\n",
              "      <td>0.913219</td>\n",
              "    </tr>\n",
              "    <tr>\n",
              "      <th>527</th>\n",
              "      <td>COc1cc2c(cc1OC)-c1c(OC)c(OC)cc3c1[C@H](C2)[N+]...</td>\n",
              "      <td>0.938960</td>\n",
              "    </tr>\n",
              "    <tr>\n",
              "      <th>532</th>\n",
              "      <td>Cc1ccccc1OCC(O)CO</td>\n",
              "      <td>0.942900</td>\n",
              "    </tr>\n",
              "    <tr>\n",
              "      <th>542</th>\n",
              "      <td>Cc1cc(C)c(C)c(OCC(=O)N2CCOCC2)c1</td>\n",
              "      <td>0.950021</td>\n",
              "    </tr>\n",
              "    <tr>\n",
              "      <th>579</th>\n",
              "      <td>COc1cc2c3c(c4cc(OC)c(OC)cc4c2cc1OC)CN1CCC[C@H]1C3</td>\n",
              "      <td>0.943461</td>\n",
              "    </tr>\n",
              "    <tr>\n",
              "      <th>601</th>\n",
              "      <td>COc1cc([C@H]2Oc3c(OC)cc(CCCO)cc3[C@@H]2CO)ccc1O</td>\n",
              "      <td>0.982585</td>\n",
              "    </tr>\n",
              "    <tr>\n",
              "      <th>662</th>\n",
              "      <td>CC/C=C/c1cc2c(cc1O)CCC1C2CC[C@@]2(C)C1CC[C@@H]2O</td>\n",
              "      <td>0.954123</td>\n",
              "    </tr>\n",
              "    <tr>\n",
              "      <th>672</th>\n",
              "      <td>COc1cc2c(cc1O)CC[C@@H]1[C@@H]2CC[C@]2(C)[C@@H]...</td>\n",
              "      <td>0.935795</td>\n",
              "    </tr>\n",
              "    <tr>\n",
              "      <th>698</th>\n",
              "      <td>COc1cc(/C=C\\c2ccc(C)cc2)cc(OC)c1OC</td>\n",
              "      <td>0.911201</td>\n",
              "    </tr>\n",
              "    <tr>\n",
              "      <th>716</th>\n",
              "      <td>C=CCN1CCc2cccc3c2[C@H]1Cc1ccc(O)c(O)c1-3</td>\n",
              "      <td>0.900176</td>\n",
              "    </tr>\n",
              "    <tr>\n",
              "      <th>725</th>\n",
              "      <td>C=CCN1CCc2cccc3c2[C@@H]1Cc1ccc(O)c(O)c1-3</td>\n",
              "      <td>0.900176</td>\n",
              "    </tr>\n",
              "    <tr>\n",
              "      <th>729</th>\n",
              "      <td>COc1c(O)cc2oc3cc(O)c(CC=C(C)C)c(O)c3c(=O)c2c1C...</td>\n",
              "      <td>0.900208</td>\n",
              "    </tr>\n",
              "    <tr>\n",
              "      <th>792</th>\n",
              "      <td>COc1ccc2c(c1O)-c1c(O)c(OC)cc3c1[C@H](C2)[N+](C...</td>\n",
              "      <td>0.941222</td>\n",
              "    </tr>\n",
              "    <tr>\n",
              "      <th>810</th>\n",
              "      <td>COc1cc2c(cc1O)C[C@H]1c3c(cc(O)c(OC)c3-2)CCN1C</td>\n",
              "      <td>0.941222</td>\n",
              "    </tr>\n",
              "    <tr>\n",
              "      <th>817</th>\n",
              "      <td>CCCc1cc2c(cc1O)CC[C@@H]1[C@@H]2CC[C@]2(C)[C@@H...</td>\n",
              "      <td>0.954123</td>\n",
              "    </tr>\n",
              "    <tr>\n",
              "      <th>839</th>\n",
              "      <td>COc1ccc2c3c(c4cc(OC)c(OC)cc4c2c1)CN1CCC[C@H]1[...</td>\n",
              "      <td>0.958498</td>\n",
              "    </tr>\n",
              "    <tr>\n",
              "      <th>842</th>\n",
              "      <td>COc1cc2c3c(c4cc(OC)c(OC)cc4c2cc1OC)[C@H](O)[C@...</td>\n",
              "      <td>0.918110</td>\n",
              "    </tr>\n",
              "    <tr>\n",
              "      <th>843</th>\n",
              "      <td>Oc1cc(O)c2c(c1)OC(c1cc(O)c(O)c(O)c1)C(O)C2</td>\n",
              "      <td>0.942900</td>\n",
              "    </tr>\n",
              "  </tbody>\n",
              "</table>\n",
              "</div>"
            ],
            "text/plain": [
              "                                                smiles  prob_active\n",
              "8        COc1cc2c(cc1O)Cc1c-2[n+](C)cc2cc(OC)c(OC)cc12     0.933992\n",
              "74                COc1cc2c(cc1O)CCC1C2CCC2(C)C(O)CCC12     0.935795\n",
              "116            C=CCN1CCc2c(cc(O)c(O)c2Cl)C(c2ccccc2)C1     0.938907\n",
              "126               C=Cc1c(C)c(O)cc2c1-c1ccc(O)c(C)c1CC2     0.907652\n",
              "142                       Oc1cc(Cl)ccc1Oc1ccc(Cl)cc1Cl     0.928241\n",
              "150  Oc1cc(O)c2c(c1)O[C@H](c1cc(O)c(O)c(O)c1)[C@H](...     0.942900\n",
              "154          COc1cc(C(C)c2cc3c(cc2OCCO)OCO3)cc(OC)c1OC     0.932551\n",
              "183   CC(C)=Cc1cc2c(cc1O)CCC1C2CC[C@@]2(C)C1CC[C@@H]2O     0.954123\n",
              "187                                 COc1ccccc1OCC(O)CO     0.959967\n",
              "189      CCCCc1cc2c(cc1O)CCC1C2CC[C@@]2(C)C1CC[C@@H]2O     0.959111\n",
              "195    CC(C)Cc1cc2c(cc1O)CCC1C2CC[C@@]2(C)C1CC[C@@H]2O     0.959111\n",
              "216                  CC(C)(C)NC[C@H](O)c1ccc(O)c(CO)c1     0.912856\n",
              "227                 COc1cc(/C=C/c2ccc(C)cc2)cc(OC)c1OC     0.911201\n",
              "231              CCc1ccc(/C=C\\c2cc(OC)c(OC)c(OC)c2)cc1     0.911201\n",
              "265  Cc1ccc(C)c(Nc2nc(N/N=C/c3cc(Br)c(O)c(Br)c3C)nc...     0.948528\n",
              "338  Oc1cc(O)c2c(c1)O[C@H](c1cc(O)c(O)c(O)c1)[C@@H]...     0.942900\n",
              "383     COc1cc2c(cc1OC)C(=O)/C(=C/c1cc(C)c(O)c(C)c1)C2     0.927187\n",
              "385             COC(CCc1ccccc1)c1ccccc1OCC(O)CN1CCOCC1     0.920230\n",
              "401          COc1ccc2c(c1O)-c1cccc3c1[C@@H](C2)N(C)CC3     0.944891\n",
              "404                   N/C(=N\\O)N/N=C/c1cc2c(cc1Cl)OCO2     0.906370\n",
              "436  COc1cc(/C=C(\\C#N)C(=O)Nc2nnc(C(F)(F)F)s2)ccc1O...     0.936171\n",
              "455           Cc1ccc(OC[C@H](O)[C@H](C)NC(C)C)c2c1CCC2     0.925478\n",
              "476                Cc1cc(Cc2cc(C)c(O)c(CO)c2)cc(CO)c1O     0.965677\n",
              "481         COc1cc2c(cc1OC)CN(C(=O)N1CCN(C(C)C)CC1)CC2     0.913219\n",
              "527  COc1cc2c(cc1OC)-c1c(OC)c(OC)cc3c1[C@H](C2)[N+]...     0.938960\n",
              "532                                  Cc1ccccc1OCC(O)CO     0.942900\n",
              "542                   Cc1cc(C)c(C)c(OCC(=O)N2CCOCC2)c1     0.950021\n",
              "579  COc1cc2c3c(c4cc(OC)c(OC)cc4c2cc1OC)CN1CCC[C@H]1C3     0.943461\n",
              "601    COc1cc([C@H]2Oc3c(OC)cc(CCCO)cc3[C@@H]2CO)ccc1O     0.982585\n",
              "662   CC/C=C/c1cc2c(cc1O)CCC1C2CC[C@@]2(C)C1CC[C@@H]2O     0.954123\n",
              "672  COc1cc2c(cc1O)CC[C@@H]1[C@@H]2CC[C@]2(C)[C@@H]...     0.935795\n",
              "698                 COc1cc(/C=C\\c2ccc(C)cc2)cc(OC)c1OC     0.911201\n",
              "716           C=CCN1CCc2cccc3c2[C@H]1Cc1ccc(O)c(O)c1-3     0.900176\n",
              "725          C=CCN1CCc2cccc3c2[C@@H]1Cc1ccc(O)c(O)c1-3     0.900176\n",
              "729  COc1c(O)cc2oc3cc(O)c(CC=C(C)C)c(O)c3c(=O)c2c1C...     0.900208\n",
              "792  COc1ccc2c(c1O)-c1c(O)c(OC)cc3c1[C@H](C2)[N+](C...     0.941222\n",
              "810      COc1cc2c(cc1O)C[C@H]1c3c(cc(O)c(OC)c3-2)CCN1C     0.941222\n",
              "817  CCCc1cc2c(cc1O)CC[C@@H]1[C@@H]2CC[C@]2(C)[C@@H...     0.954123\n",
              "839  COc1ccc2c3c(c4cc(OC)c(OC)cc4c2c1)CN1CCC[C@H]1[...     0.958498\n",
              "842  COc1cc2c3c(c4cc(OC)c(OC)cc4c2cc1OC)[C@H](O)[C@...     0.918110\n",
              "843         Oc1cc(O)c2c(c1)OC(c1cc(O)c(O)c(O)c1)C(O)C2     0.942900"
            ]
          },
          "metadata": {},
          "execution_count": 17
        }
      ]
    },
    {
      "cell_type": "code",
      "metadata": {
        "colab": {
          "base_uri": "https://localhost:8080/"
        },
        "id": "rsqWU0mTbYDX",
        "outputId": "3e2dd79e-4732-4ca1-c1e4-4164c4efcf4d"
      },
      "source": [
        "len(highactivedf)"
      ],
      "execution_count": null,
      "outputs": [
        {
          "output_type": "execute_result",
          "data": {
            "text/plain": [
              "41"
            ]
          },
          "metadata": {},
          "execution_count": 20
        }
      ]
    },
    {
      "cell_type": "code",
      "metadata": {
        "colab": {
          "base_uri": "https://localhost:8080/",
          "height": 282
        },
        "id": "oC1Fu-EEbtTI",
        "outputId": "302c404f-dab5-4257-bfc1-8ca074276392"
      },
      "source": [
        "highactivedf.prob_active.hist(bins=10)"
      ],
      "execution_count": null,
      "outputs": [
        {
          "output_type": "execute_result",
          "data": {
            "text/plain": [
              "<matplotlib.axes._subplots.AxesSubplot at 0x7f71d2498e90>"
            ]
          },
          "metadata": {},
          "execution_count": 26
        },
        {
          "output_type": "display_data",
          "data": {
            "image/png": "[encoded data removed]",
            "text/plain": [
              "<Figure size 432x288 with 1 Axes>"
            ]
          },
          "metadata": {
            "needs_background": "light"
          }
        }
      ]
    },
    {
      "cell_type": "code",
      "metadata": {
        "colab": {
          "base_uri": "https://localhost:8080/"
        },
        "id": "qzVHjXXAbyFn",
        "outputId": "f9dad6bb-1369-4c6f-842e-a744b5765907"
      },
      "source": [
        "#max probability\n",
        "highactivedf.max(axis=0)"
      ],
      "execution_count": null,
      "outputs": [
        {
          "output_type": "execute_result",
          "data": {
            "text/plain": [
              "smiles         Oc1cc(O)c2c(c1)O[C@H](c1cc(O)c(O)c(O)c1)[C@H](...\n",
              "prob_active                                             0.982585\n",
              "dtype: object"
            ]
          },
          "metadata": {},
          "execution_count": 30
        }
      ]
    },
    {
      "cell_type": "code",
      "metadata": {
        "colab": {
          "base_uri": "https://localhost:8080/"
        },
        "id": "NvWu8KficSBP",
        "outputId": "1f1a052c-c7cd-41b0-f312-f583bbba42a9"
      },
      "source": [
        "compoundMax,_ = highactivedf.max(axis=0)\n",
        "print(compoundMax)"
      ],
      "execution_count": null,
      "outputs": [
        {
          "output_type": "stream",
          "name": "stdout",
          "text": [
            "Oc1cc(O)c2c(c1)O[C@H](c1cc(O)c(O)c(O)c1)[C@H](O)C2\n"
          ]
        }
      ]
    },
    {
      "cell_type": "code",
      "metadata": {
        "id": "SriprsAgcpxG"
      },
      "source": [
        "temp = highactivedf.sort_values('prob_active', ascending=False)"
      ],
      "execution_count": null,
      "outputs": []
    },
    {
      "cell_type": "code",
      "metadata": {
        "colab": {
          "base_uri": "https://localhost:8080/",
          "height": 1000
        },
        "id": "o3op7JeM5Fx6",
        "outputId": "f42f87a6-5e36-49b7-b564-3a5261065c90"
      },
      "source": [
        "temp"
      ],
      "execution_count": null,
      "outputs": [
        {
          "output_type": "execute_result",
          "data": {
            "text/html": [
              "<div>\n",
              "<style scoped>\n",
              "    .dataframe tbody tr th:only-of-type {\n",
              "        vertical-align: middle;\n",
              "    }\n",
              "\n",
              "    .dataframe tbody tr th {\n",
              "        vertical-align: top;\n",
              "    }\n",
              "\n",
              "    .dataframe thead th {\n",
              "        text-align: right;\n",
              "    }\n",
              "</style>\n",
              "<table border=\"1\" class=\"dataframe\">\n",
              "  <thead>\n",
              "    <tr style=\"text-align: right;\">\n",
              "      <th></th>\n",
              "      <th>smiles</th>\n",
              "      <th>prob_active</th>\n",
              "    </tr>\n",
              "  </thead>\n",
              "  <tbody>\n",
              "    <tr>\n",
              "      <th>601</th>\n",
              "      <td>COc1cc([C@H]2Oc3c(OC)cc(CCCO)cc3[C@@H]2CO)ccc1O</td>\n",
              "      <td>0.982585</td>\n",
              "    </tr>\n",
              "    <tr>\n",
              "      <th>476</th>\n",
              "      <td>Cc1cc(Cc2cc(C)c(O)c(CO)c2)cc(CO)c1O</td>\n",
              "      <td>0.965677</td>\n",
              "    </tr>\n",
              "    <tr>\n",
              "      <th>187</th>\n",
              "      <td>COc1ccccc1OCC(O)CO</td>\n",
              "      <td>0.959967</td>\n",
              "    </tr>\n",
              "    <tr>\n",
              "      <th>195</th>\n",
              "      <td>CC(C)Cc1cc2c(cc1O)CCC1C2CC[C@@]2(C)C1CC[C@@H]2O</td>\n",
              "      <td>0.959111</td>\n",
              "    </tr>\n",
              "    <tr>\n",
              "      <th>189</th>\n",
              "      <td>CCCCc1cc2c(cc1O)CCC1C2CC[C@@]2(C)C1CC[C@@H]2O</td>\n",
              "      <td>0.959111</td>\n",
              "    </tr>\n",
              "    <tr>\n",
              "      <th>839</th>\n",
              "      <td>COc1ccc2c3c(c4cc(OC)c(OC)cc4c2c1)CN1CCC[C@H]1[...</td>\n",
              "      <td>0.958498</td>\n",
              "    </tr>\n",
              "    <tr>\n",
              "      <th>817</th>\n",
              "      <td>CCCc1cc2c(cc1O)CC[C@@H]1[C@@H]2CC[C@]2(C)[C@@H...</td>\n",
              "      <td>0.954123</td>\n",
              "    </tr>\n",
              "    <tr>\n",
              "      <th>183</th>\n",
              "      <td>CC(C)=Cc1cc2c(cc1O)CCC1C2CC[C@@]2(C)C1CC[C@@H]2O</td>\n",
              "      <td>0.954123</td>\n",
              "    </tr>\n",
              "    <tr>\n",
              "      <th>662</th>\n",
              "      <td>CC/C=C/c1cc2c(cc1O)CCC1C2CC[C@@]2(C)C1CC[C@@H]2O</td>\n",
              "      <td>0.954123</td>\n",
              "    </tr>\n",
              "    <tr>\n",
              "      <th>542</th>\n",
              "      <td>Cc1cc(C)c(C)c(OCC(=O)N2CCOCC2)c1</td>\n",
              "      <td>0.950021</td>\n",
              "    </tr>\n",
              "    <tr>\n",
              "      <th>265</th>\n",
              "      <td>Cc1ccc(C)c(Nc2nc(N/N=C/c3cc(Br)c(O)c(Br)c3C)nc...</td>\n",
              "      <td>0.948528</td>\n",
              "    </tr>\n",
              "    <tr>\n",
              "      <th>401</th>\n",
              "      <td>COc1ccc2c(c1O)-c1cccc3c1[C@@H](C2)N(C)CC3</td>\n",
              "      <td>0.944891</td>\n",
              "    </tr>\n",
              "    <tr>\n",
              "      <th>579</th>\n",
              "      <td>COc1cc2c3c(c4cc(OC)c(OC)cc4c2cc1OC)CN1CCC[C@H]1C3</td>\n",
              "      <td>0.943461</td>\n",
              "    </tr>\n",
              "    <tr>\n",
              "      <th>338</th>\n",
              "      <td>Oc1cc(O)c2c(c1)O[C@H](c1cc(O)c(O)c(O)c1)[C@@H]...</td>\n",
              "      <td>0.942900</td>\n",
              "    </tr>\n",
              "    <tr>\n",
              "      <th>843</th>\n",
              "      <td>Oc1cc(O)c2c(c1)OC(c1cc(O)c(O)c(O)c1)C(O)C2</td>\n",
              "      <td>0.942900</td>\n",
              "    </tr>\n",
              "    <tr>\n",
              "      <th>150</th>\n",
              "      <td>Oc1cc(O)c2c(c1)O[C@H](c1cc(O)c(O)c(O)c1)[C@H](...</td>\n",
              "      <td>0.942900</td>\n",
              "    </tr>\n",
              "    <tr>\n",
              "      <th>532</th>\n",
              "      <td>Cc1ccccc1OCC(O)CO</td>\n",
              "      <td>0.942900</td>\n",
              "    </tr>\n",
              "    <tr>\n",
              "      <th>792</th>\n",
              "      <td>COc1ccc2c(c1O)-c1c(O)c(OC)cc3c1[C@H](C2)[N+](C...</td>\n",
              "      <td>0.941222</td>\n",
              "    </tr>\n",
              "    <tr>\n",
              "      <th>810</th>\n",
              "      <td>COc1cc2c(cc1O)C[C@H]1c3c(cc(O)c(OC)c3-2)CCN1C</td>\n",
              "      <td>0.941222</td>\n",
              "    </tr>\n",
              "    <tr>\n",
              "      <th>527</th>\n",
              "      <td>COc1cc2c(cc1OC)-c1c(OC)c(OC)cc3c1[C@H](C2)[N+]...</td>\n",
              "      <td>0.938960</td>\n",
              "    </tr>\n",
              "    <tr>\n",
              "      <th>116</th>\n",
              "      <td>C=CCN1CCc2c(cc(O)c(O)c2Cl)C(c2ccccc2)C1</td>\n",
              "      <td>0.938907</td>\n",
              "    </tr>\n",
              "    <tr>\n",
              "      <th>436</th>\n",
              "      <td>COc1cc(/C=C(\\C#N)C(=O)Nc2nnc(C(F)(F)F)s2)ccc1O...</td>\n",
              "      <td>0.936171</td>\n",
              "    </tr>\n",
              "    <tr>\n",
              "      <th>672</th>\n",
              "      <td>COc1cc2c(cc1O)CC[C@@H]1[C@@H]2CC[C@]2(C)[C@@H]...</td>\n",
              "      <td>0.935795</td>\n",
              "    </tr>\n",
              "    <tr>\n",
              "      <th>74</th>\n",
              "      <td>COc1cc2c(cc1O)CCC1C2CCC2(C)C(O)CCC12</td>\n",
              "      <td>0.935795</td>\n",
              "    </tr>\n",
              "    <tr>\n",
              "      <th>8</th>\n",
              "      <td>COc1cc2c(cc1O)Cc1c-2[n+](C)cc2cc(OC)c(OC)cc12</td>\n",
              "      <td>0.933992</td>\n",
              "    </tr>\n",
              "    <tr>\n",
              "      <th>154</th>\n",
              "      <td>COc1cc(C(C)c2cc3c(cc2OCCO)OCO3)cc(OC)c1OC</td>\n",
              "      <td>0.932551</td>\n",
              "    </tr>\n",
              "    <tr>\n",
              "      <th>142</th>\n",
              "      <td>Oc1cc(Cl)ccc1Oc1ccc(Cl)cc1Cl</td>\n",
              "      <td>0.928241</td>\n",
              "    </tr>\n",
              "    <tr>\n",
              "      <th>383</th>\n",
              "      <td>COc1cc2c(cc1OC)C(=O)/C(=C/c1cc(C)c(O)c(C)c1)C2</td>\n",
              "      <td>0.927187</td>\n",
              "    </tr>\n",
              "    <tr>\n",
              "      <th>455</th>\n",
              "      <td>Cc1ccc(OC[C@H](O)[C@H](C)NC(C)C)c2c1CCC2</td>\n",
              "      <td>0.925478</td>\n",
              "    </tr>\n",
              "    <tr>\n",
              "      <th>385</th>\n",
              "      <td>COC(CCc1ccccc1)c1ccccc1OCC(O)CN1CCOCC1</td>\n",
              "      <td>0.920230</td>\n",
              "    </tr>\n",
              "    <tr>\n",
              "      <th>842</th>\n",
              "      <td>COc1cc2c3c(c4cc(OC)c(OC)cc4c2cc1OC)[C@H](O)[C@...</td>\n",
              "      <td>0.918110</td>\n",
              "    </tr>\n",
              "    <tr>\n",
              "      <th>481</th>\n",
              "      <td>COc1cc2c(cc1OC)CN(C(=O)N1CCN(C(C)C)CC1)CC2</td>\n",
              "      <td>0.913219</td>\n",
              "    </tr>\n",
              "    <tr>\n",
              "      <th>216</th>\n",
              "      <td>CC(C)(C)NC[C@H](O)c1ccc(O)c(CO)c1</td>\n",
              "      <td>0.912856</td>\n",
              "    </tr>\n",
              "    <tr>\n",
              "      <th>227</th>\n",
              "      <td>COc1cc(/C=C/c2ccc(C)cc2)cc(OC)c1OC</td>\n",
              "      <td>0.911201</td>\n",
              "    </tr>\n",
              "    <tr>\n",
              "      <th>231</th>\n",
              "      <td>CCc1ccc(/C=C\\c2cc(OC)c(OC)c(OC)c2)cc1</td>\n",
              "      <td>0.911201</td>\n",
              "    </tr>\n",
              "    <tr>\n",
              "      <th>698</th>\n",
              "      <td>COc1cc(/C=C\\c2ccc(C)cc2)cc(OC)c1OC</td>\n",
              "      <td>0.911201</td>\n",
              "    </tr>\n",
              "    <tr>\n",
              "      <th>126</th>\n",
              "      <td>C=Cc1c(C)c(O)cc2c1-c1ccc(O)c(C)c1CC2</td>\n",
              "      <td>0.907652</td>\n",
              "    </tr>\n",
              "    <tr>\n",
              "      <th>404</th>\n",
              "      <td>N/C(=N\\O)N/N=C/c1cc2c(cc1Cl)OCO2</td>\n",
              "      <td>0.906370</td>\n",
              "    </tr>\n",
              "    <tr>\n",
              "      <th>729</th>\n",
              "      <td>COc1c(O)cc2oc3cc(O)c(CC=C(C)C)c(O)c3c(=O)c2c1C...</td>\n",
              "      <td>0.900208</td>\n",
              "    </tr>\n",
              "    <tr>\n",
              "      <th>716</th>\n",
              "      <td>C=CCN1CCc2cccc3c2[C@H]1Cc1ccc(O)c(O)c1-3</td>\n",
              "      <td>0.900176</td>\n",
              "    </tr>\n",
              "    <tr>\n",
              "      <th>725</th>\n",
              "      <td>C=CCN1CCc2cccc3c2[C@@H]1Cc1ccc(O)c(O)c1-3</td>\n",
              "      <td>0.900176</td>\n",
              "    </tr>\n",
              "  </tbody>\n",
              "</table>\n",
              "</div>"
            ],
            "text/plain": [
              "                                                smiles  prob_active\n",
              "601    COc1cc([C@H]2Oc3c(OC)cc(CCCO)cc3[C@@H]2CO)ccc1O     0.982585\n",
              "476                Cc1cc(Cc2cc(C)c(O)c(CO)c2)cc(CO)c1O     0.965677\n",
              "187                                 COc1ccccc1OCC(O)CO     0.959967\n",
              "195    CC(C)Cc1cc2c(cc1O)CCC1C2CC[C@@]2(C)C1CC[C@@H]2O     0.959111\n",
              "189      CCCCc1cc2c(cc1O)CCC1C2CC[C@@]2(C)C1CC[C@@H]2O     0.959111\n",
              "839  COc1ccc2c3c(c4cc(OC)c(OC)cc4c2c1)CN1CCC[C@H]1[...     0.958498\n",
              "817  CCCc1cc2c(cc1O)CC[C@@H]1[C@@H]2CC[C@]2(C)[C@@H...     0.954123\n",
              "183   CC(C)=Cc1cc2c(cc1O)CCC1C2CC[C@@]2(C)C1CC[C@@H]2O     0.954123\n",
              "662   CC/C=C/c1cc2c(cc1O)CCC1C2CC[C@@]2(C)C1CC[C@@H]2O     0.954123\n",
              "542                   Cc1cc(C)c(C)c(OCC(=O)N2CCOCC2)c1     0.950021\n",
              "265  Cc1ccc(C)c(Nc2nc(N/N=C/c3cc(Br)c(O)c(Br)c3C)nc...     0.948528\n",
              "401          COc1ccc2c(c1O)-c1cccc3c1[C@@H](C2)N(C)CC3     0.944891\n",
              "579  COc1cc2c3c(c4cc(OC)c(OC)cc4c2cc1OC)CN1CCC[C@H]1C3     0.943461\n",
              "338  Oc1cc(O)c2c(c1)O[C@H](c1cc(O)c(O)c(O)c1)[C@@H]...     0.942900\n",
              "843         Oc1cc(O)c2c(c1)OC(c1cc(O)c(O)c(O)c1)C(O)C2     0.942900\n",
              "150  Oc1cc(O)c2c(c1)O[C@H](c1cc(O)c(O)c(O)c1)[C@H](...     0.942900\n",
              "532                                  Cc1ccccc1OCC(O)CO     0.942900\n",
              "792  COc1ccc2c(c1O)-c1c(O)c(OC)cc3c1[C@H](C2)[N+](C...     0.941222\n",
              "810      COc1cc2c(cc1O)C[C@H]1c3c(cc(O)c(OC)c3-2)CCN1C     0.941222\n",
              "527  COc1cc2c(cc1OC)-c1c(OC)c(OC)cc3c1[C@H](C2)[N+]...     0.938960\n",
              "116            C=CCN1CCc2c(cc(O)c(O)c2Cl)C(c2ccccc2)C1     0.938907\n",
              "436  COc1cc(/C=C(\\C#N)C(=O)Nc2nnc(C(F)(F)F)s2)ccc1O...     0.936171\n",
              "672  COc1cc2c(cc1O)CC[C@@H]1[C@@H]2CC[C@]2(C)[C@@H]...     0.935795\n",
              "74                COc1cc2c(cc1O)CCC1C2CCC2(C)C(O)CCC12     0.935795\n",
              "8        COc1cc2c(cc1O)Cc1c-2[n+](C)cc2cc(OC)c(OC)cc12     0.933992\n",
              "154          COc1cc(C(C)c2cc3c(cc2OCCO)OCO3)cc(OC)c1OC     0.932551\n",
              "142                       Oc1cc(Cl)ccc1Oc1ccc(Cl)cc1Cl     0.928241\n",
              "383     COc1cc2c(cc1OC)C(=O)/C(=C/c1cc(C)c(O)c(C)c1)C2     0.927187\n",
              "455           Cc1ccc(OC[C@H](O)[C@H](C)NC(C)C)c2c1CCC2     0.925478\n",
              "385             COC(CCc1ccccc1)c1ccccc1OCC(O)CN1CCOCC1     0.920230\n",
              "842  COc1cc2c3c(c4cc(OC)c(OC)cc4c2cc1OC)[C@H](O)[C@...     0.918110\n",
              "481         COc1cc2c(cc1OC)CN(C(=O)N1CCN(C(C)C)CC1)CC2     0.913219\n",
              "216                  CC(C)(C)NC[C@H](O)c1ccc(O)c(CO)c1     0.912856\n",
              "227                 COc1cc(/C=C/c2ccc(C)cc2)cc(OC)c1OC     0.911201\n",
              "231              CCc1ccc(/C=C\\c2cc(OC)c(OC)c(OC)c2)cc1     0.911201\n",
              "698                 COc1cc(/C=C\\c2ccc(C)cc2)cc(OC)c1OC     0.911201\n",
              "126               C=Cc1c(C)c(O)cc2c1-c1ccc(O)c(C)c1CC2     0.907652\n",
              "404                   N/C(=N\\O)N/N=C/c1cc2c(cc1Cl)OCO2     0.906370\n",
              "729  COc1c(O)cc2oc3cc(O)c(CC=C(C)C)c(O)c3c(=O)c2c1C...     0.900208\n",
              "716           C=CCN1CCc2cccc3c2[C@H]1Cc1ccc(O)c(O)c1-3     0.900176\n",
              "725          C=CCN1CCc2cccc3c2[C@@H]1Cc1ccc(O)c(O)c1-3     0.900176"
            ]
          },
          "metadata": {},
          "execution_count": 36
        }
      ]
    },
    {
      "cell_type": "code",
      "metadata": {
        "id": "pxivqs2n5Ryn"
      },
      "source": [
        "# temp.to_excel('/content/drive/MyDrive/AI for drug/block_SGLT2/results/active90from100000.xlsx')"
      ],
      "execution_count": null,
      "outputs": []
    },
    {
      "cell_type": "code",
      "metadata": {
        "id": "b-so4T5t5lIq"
      },
      "source": [
        ""
      ],
      "execution_count": null,
      "outputs": []
    }
  ]
}