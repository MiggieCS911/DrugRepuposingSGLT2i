{
  "nbformat": 4,
  "nbformat_minor": 0,
  "metadata": {
    "colab": {
      "name": "findOtherSubstancesbyModelSGLT2_show.ipynb",
      "provenance": [],
      "toc_visible": true,
      "machine_shape": "hm",
      "mount_file_id": "1yPacCOfkxgl0pVwqUFzmPOlwq-mspm0e",
      "authorship_tag": "ABX9TyNH7YRfyAakWpO2aCmD0FFx",
      "include_colab_link": true
    },
    "kernelspec": {
      "name": "python3",
      "display_name": "Python 3"
    },
    "language_info": {
      "name": "python"
    }
  },
  "cells": [
    {
      "cell_type": "markdown",
      "metadata": {
        "id": "view-in-github",
        "colab_type": "text"
      },
      "source": [
        "<a href=\"https://colab.research.google.com/github/MiggieCS911/DrugRepuposingSGLT2i/blob/main/findOtherSubstancesbyModelSGLT2_show.ipynb\" target=\"_parent\"><img src=\"https://colab.research.google.com/assets/colab-badge.svg\" alt=\"Open In Colab\"/></a>"
      ]
    },
    {
      "cell_type": "code",
      "metadata": {
        "id": "ecQ1rOi9Fd9H"
      },
      "source": [
        "import numpy as np\n",
        "import pandas as pd\n",
        "import matplotlib.pyplot as plt\n",
        "%matplotlib inline"
      ],
      "execution_count": null,
      "outputs": []
    },
    {
      "cell_type": "code",
      "metadata": {
        "id": "XMnw28fiGUyi"
      },
      "source": [
        "import pickle"
      ],
      "execution_count": null,
      "outputs": []
    },
    {
      "cell_type": "markdown",
      "metadata": {
        "id": "hZfKkaomHC2k"
      },
      "source": [
        "# load RFmodel\n",
        "name => rfmodel"
      ]
    },
    {
      "cell_type": "code",
      "metadata": {
        "id": "_fiWWeZHGfGm"
      },
      "source": [
        "filename = '/content/drive/MyDrive/AI for drug/block_SGLT2/results/RFmodelHighfeature_bioactivity_class.sav'\n",
        "rfmodel = pickle.load(open(filename, 'rb'))"
      ],
      "execution_count": null,
      "outputs": []
    },
    {
      "cell_type": "markdown",
      "metadata": {
        "id": "TFWCbCbTVRC0"
      },
      "source": [
        "# load XGBoost"
      ]
    },
    {
      "cell_type": "code",
      "metadata": {
        "colab": {
          "base_uri": "https://localhost:8080/"
        },
        "id": "xpKnQmQDVQHM",
        "outputId": "a3e55f99-dbb1-451e-e622-05d5b6965e62"
      },
      "source": [
        "!pip install xgboost==1.3.3\n",
        "import xgboost as xgb\n",
        "\n",
        "#load model\n",
        "xgbmodel = xgb.XGBClassifier()\n",
        "xgbmodel.load_model('/content/drive/MyDrive/AI for drug/block_SGLT2/results/xgb_cioactivity_class.json')"
      ],
      "execution_count": null,
      "outputs": [
        {
          "output_type": "stream",
          "name": "stdout",
          "text": [
            "Collecting xgboost==1.3.3\n",
            "  Downloading xgboost-1.3.3-py3-none-manylinux2010_x86_64.whl (157.5 MB)\n",
            "\u001b[K     |████████████████████████████████| 157.5 MB 32 kB/s \n",
            "\u001b[?25hRequirement already satisfied: numpy in /usr/local/lib/python3.7/dist-packages (from xgboost==1.3.3) (1.19.5)\n",
            "Requirement already satisfied: scipy in /usr/local/lib/python3.7/dist-packages (from xgboost==1.3.3) (1.4.1)\n",
            "Installing collected packages: xgboost\n",
            "  Attempting uninstall: xgboost\n",
            "    Found existing installation: xgboost 0.90\n",
            "    Uninstalling xgboost-0.90:\n",
            "      Successfully uninstalled xgboost-0.90\n",
            "Successfully installed xgboost-1.3.3\n"
          ]
        }
      ]
    },
    {
      "cell_type": "markdown",
      "metadata": {
        "id": "vVw3PkvjHRgU"
      },
      "source": [
        "# prepared function turn canonical smiles to fp\n",
        "use PaDELpy"
      ]
    },
    {
      "cell_type": "code",
      "metadata": {
        "colab": {
          "base_uri": "https://localhost:8080/"
        },
        "id": "ibeAGXIvHMy1",
        "outputId": "61d2447f-7ff9-471b-d6d8-ca7eb0376359"
      },
      "source": [
        "!pip install padelpy"
      ],
      "execution_count": null,
      "outputs": [
        {
          "output_type": "stream",
          "name": "stdout",
          "text": [
            "Collecting padelpy\n",
            "  Downloading padelpy-0.1.10-py2.py3-none-any.whl (20.9 MB)\n",
            "\u001b[K     |████████████████████████████████| 20.9 MB 273 kB/s \n",
            "\u001b[?25hInstalling collected packages: padelpy\n",
            "Successfully installed padelpy-0.1.10\n"
          ]
        }
      ]
    },
    {
      "cell_type": "code",
      "metadata": {
        "id": "qY4-TkSFHslz"
      },
      "source": [
        "from padelpy import from_smiles"
      ],
      "execution_count": null,
      "outputs": []
    },
    {
      "cell_type": "markdown",
      "metadata": {
        "id": "Y5i5xlTSH8E0"
      },
      "source": [
        "Use datafrom CHEMBLfiltered"
      ]
    },
    {
      "cell_type": "code",
      "metadata": {
        "id": "oHA1mJS0H6fo"
      },
      "source": [
        "dfchem = pd.read_csv('/content/drive/MyDrive/AI for drug/block_SGLT2/data/chemBL/chembl_filtered_torchdrug.csv',\n",
        "                     usecols = ['smiles'])"
      ],
      "execution_count": null,
      "outputs": []
    },
    {
      "cell_type": "code",
      "metadata": {
        "colab": {
          "base_uri": "https://localhost:8080/"
        },
        "id": "f8DON7ZRIkVz",
        "outputId": "4cc62834-2a3e-40bf-baaf-0c4e389054ea"
      },
      "source": [
        "dfchem.shape"
      ],
      "execution_count": null,
      "outputs": [
        {
          "output_type": "execute_result",
          "data": {
            "text/plain": [
              "(430710, 1)"
            ]
          },
          "metadata": {},
          "execution_count": 10
        }
      ]
    },
    {
      "cell_type": "code",
      "metadata": {
        "colab": {
          "base_uri": "https://localhost:8080/",
          "height": 206
        },
        "id": "cKmvtu3KIveq",
        "outputId": "f4b4fac2-d8e3-4f48-8b4c-01cb7bef7a31"
      },
      "source": [
        "dfchem.head()"
      ],
      "execution_count": null,
      "outputs": [
        {
          "output_type": "execute_result",
          "data": {
            "text/html": [
              "<div>\n",
              "<style scoped>\n",
              "    .dataframe tbody tr th:only-of-type {\n",
              "        vertical-align: middle;\n",
              "    }\n",
              "\n",
              "    .dataframe tbody tr th {\n",
              "        vertical-align: top;\n",
              "    }\n",
              "\n",
              "    .dataframe thead th {\n",
              "        text-align: right;\n",
              "    }\n",
              "</style>\n",
              "<table border=\"1\" class=\"dataframe\">\n",
              "  <thead>\n",
              "    <tr style=\"text-align: right;\">\n",
              "      <th></th>\n",
              "      <th>smiles</th>\n",
              "    </tr>\n",
              "  </thead>\n",
              "  <tbody>\n",
              "    <tr>\n",
              "      <th>0</th>\n",
              "      <td>CCCCCC/C=C\\CCCCCCCc1cccc(O)c1C(=O)O</td>\n",
              "    </tr>\n",
              "    <tr>\n",
              "      <th>1</th>\n",
              "      <td>CC(=O)c1cc2c(cc1O)OC(C)(C)C=C2</td>\n",
              "    </tr>\n",
              "    <tr>\n",
              "      <th>2</th>\n",
              "      <td>CCCCCn1cc(C(=O)NC2C3CC4CC(C3)CC2C4)c(=O)c2ccccc21</td>\n",
              "    </tr>\n",
              "    <tr>\n",
              "      <th>3</th>\n",
              "      <td>O=C1NC(Cc2c[nH]c3ccccc23)C(=O)N2C(c3ccccc3)c3[...</td>\n",
              "    </tr>\n",
              "    <tr>\n",
              "      <th>4</th>\n",
              "      <td>N=C(N)NC(=O)c1nc(Cl)c(N2CCCCCC2)nc1N</td>\n",
              "    </tr>\n",
              "  </tbody>\n",
              "</table>\n",
              "</div>"
            ],
            "text/plain": [
              "                                              smiles\n",
              "0                CCCCCC/C=C\\CCCCCCCc1cccc(O)c1C(=O)O\n",
              "1                     CC(=O)c1cc2c(cc1O)OC(C)(C)C=C2\n",
              "2  CCCCCn1cc(C(=O)NC2C3CC4CC(C3)CC2C4)c(=O)c2ccccc21\n",
              "3  O=C1NC(Cc2c[nH]c3ccccc23)C(=O)N2C(c3ccccc3)c3[...\n",
              "4               N=C(N)NC(=O)c1nc(Cl)c(N2CCCCCC2)nc1N"
            ]
          },
          "metadata": {},
          "execution_count": 11
        }
      ]
    },
    {
      "cell_type": "markdown",
      "metadata": {
        "id": "dy5dLOrtI28b"
      },
      "source": [
        "use cananonical smiles from SGLT2-i"
      ]
    },
    {
      "cell_type": "code",
      "metadata": {
        "id": "s5DeG1DMI0AB"
      },
      "source": [
        "dfsglt2 = pd.read_csv('/content/drive/MyDrive/AI for drug/block_SGLT2/data/sglt2i.csv',\n",
        "                      usecols = ['canonical_smiles'])"
      ],
      "execution_count": null,
      "outputs": []
    },
    {
      "cell_type": "code",
      "metadata": {
        "colab": {
          "base_uri": "https://localhost:8080/"
        },
        "id": "7rB80XYIJMwD",
        "outputId": "5ac3dcb3-4f36-4c09-9c01-225e6b966179"
      },
      "source": [
        "dfsglt2.shape"
      ],
      "execution_count": null,
      "outputs": [
        {
          "output_type": "execute_result",
          "data": {
            "text/plain": [
              "(1528, 1)"
            ]
          },
          "metadata": {},
          "execution_count": 13
        }
      ]
    },
    {
      "cell_type": "code",
      "metadata": {
        "colab": {
          "base_uri": "https://localhost:8080/",
          "height": 206
        },
        "id": "8K3rhL3AJPhR",
        "outputId": "287a31a5-a9a1-4e7d-c93a-48aee56a267a"
      },
      "source": [
        "dfsglt2.head()"
      ],
      "execution_count": null,
      "outputs": [
        {
          "output_type": "execute_result",
          "data": {
            "text/html": [
              "<div>\n",
              "<style scoped>\n",
              "    .dataframe tbody tr th:only-of-type {\n",
              "        vertical-align: middle;\n",
              "    }\n",
              "\n",
              "    .dataframe tbody tr th {\n",
              "        vertical-align: top;\n",
              "    }\n",
              "\n",
              "    .dataframe thead th {\n",
              "        text-align: right;\n",
              "    }\n",
              "</style>\n",
              "<table border=\"1\" class=\"dataframe\">\n",
              "  <thead>\n",
              "    <tr style=\"text-align: right;\">\n",
              "      <th></th>\n",
              "      <th>canonical_smiles</th>\n",
              "    </tr>\n",
              "  </thead>\n",
              "  <tbody>\n",
              "    <tr>\n",
              "      <th>0</th>\n",
              "      <td>Cc1cc(O)c(C(=O)CCc2ccc3occc3c2)c(O[C@@H]2O[C@H...</td>\n",
              "    </tr>\n",
              "    <tr>\n",
              "      <th>1</th>\n",
              "      <td>Cc1cc(O[C@@H]2O[C@H](CO)[C@@H](O)[C@H](O)[C@H]...</td>\n",
              "    </tr>\n",
              "    <tr>\n",
              "      <th>2</th>\n",
              "      <td>Cc1cc(O[C@@H]2O[C@H](CO)[C@@H](O)[C@H](O)[C@H]...</td>\n",
              "    </tr>\n",
              "    <tr>\n",
              "      <th>3</th>\n",
              "      <td>CCc1cc(O[C@@H]2O[C@H](CO)[C@@H](O)[C@H](O)[C@H...</td>\n",
              "    </tr>\n",
              "    <tr>\n",
              "      <th>4</th>\n",
              "      <td>Cc1cc(O[C@@H]2O[C@H](CO)[C@@H](O)[C@H](O)[C@H]...</td>\n",
              "    </tr>\n",
              "  </tbody>\n",
              "</table>\n",
              "</div>"
            ],
            "text/plain": [
              "                                    canonical_smiles\n",
              "0  Cc1cc(O)c(C(=O)CCc2ccc3occc3c2)c(O[C@@H]2O[C@H...\n",
              "1  Cc1cc(O[C@@H]2O[C@H](CO)[C@@H](O)[C@H](O)[C@H]...\n",
              "2  Cc1cc(O[C@@H]2O[C@H](CO)[C@@H](O)[C@H](O)[C@H]...\n",
              "3  CCc1cc(O[C@@H]2O[C@H](CO)[C@@H](O)[C@H](O)[C@H...\n",
              "4  Cc1cc(O[C@@H]2O[C@H](CO)[C@@H](O)[C@H](O)[C@H]..."
            ]
          },
          "metadata": {},
          "execution_count": 14
        }
      ]
    },
    {
      "cell_type": "markdown",
      "metadata": {
        "id": "HJaZxNqpJ7E0"
      },
      "source": [
        "# step test\n",
        "1. check not in dfsglt2\n",
        "2. turn to descriptor\n",
        "3. predict by model\n",
        "4. if active -> 1 save canonical smiles in list\n",
        "5. save list to csv"
      ]
    },
    {
      "cell_type": "markdown",
      "metadata": {
        "id": "4QLfLBN0KcMa"
      },
      "source": [
        "due to very long time when turn to fp --> we cut to 100 substances each time"
      ]
    },
    {
      "cell_type": "code",
      "metadata": {
        "id": "wm4XOe5XJ5zd"
      },
      "source": [
        "substance = dfchem.smiles.to_list()"
      ],
      "execution_count": null,
      "outputs": []
    },
    {
      "cell_type": "code",
      "metadata": {
        "colab": {
          "base_uri": "https://localhost:8080/"
        },
        "id": "6o970SBSK7i3",
        "outputId": "d17c4550-ccd1-4e18-ee76-532dc86c09ec"
      },
      "source": [
        "substance[:10]"
      ],
      "execution_count": null,
      "outputs": [
        {
          "output_type": "execute_result",
          "data": {
            "text/plain": [
              "['CCCCCC/C=C\\\\CCCCCCCc1cccc(O)c1C(=O)O',\n",
              " 'CC(=O)c1cc2c(cc1O)OC(C)(C)C=C2',\n",
              " 'CCCCCn1cc(C(=O)NC2C3CC4CC(C3)CC2C4)c(=O)c2ccccc21',\n",
              " 'O=C1NC(Cc2c[nH]c3ccccc23)C(=O)N2C(c3ccccc3)c3[nH]c4ccccc4c3C[C@@H]12',\n",
              " 'N=C(N)NC(=O)c1nc(Cl)c(N2CCCCCC2)nc1N',\n",
              " 'CC(C)(C)OC(=O)NC(CC(=O)OCc1ccccc1)C(=O)NC(COCc1ccccc1)C(=O)NCC(=O)OCc1ccccc1',\n",
              " 'O=C(O)/C(O)=C/C(=O)c1ccnc2ccccc12',\n",
              " 'CC1=CC(C)(C)N=C(Nc2nc(C)c3cc(C)cc(C)c3n2)N1',\n",
              " 'COc1cc(CNc2ccc(C(C)C)cc2)cc(OC)c1OC',\n",
              " 'O=c1ccc2nccc3c4c(O)cccc4n1c23']"
            ]
          },
          "metadata": {},
          "execution_count": 21
        }
      ]
    },
    {
      "cell_type": "code",
      "metadata": {
        "id": "jNaBI_JbK9ld"
      },
      "source": [
        "sglt = dfsglt2.canonical_smiles.to_list()"
      ],
      "execution_count": null,
      "outputs": []
    },
    {
      "cell_type": "code",
      "metadata": {
        "colab": {
          "base_uri": "https://localhost:8080/"
        },
        "id": "d4heyIFjLEU2",
        "outputId": "04a1311f-63b3-49e2-8a20-496ed94e1976"
      },
      "source": [
        "sglt[:4]"
      ],
      "execution_count": null,
      "outputs": [
        {
          "output_type": "execute_result",
          "data": {
            "text/plain": [
              "['Cc1cc(O)c(C(=O)CCc2ccc3occc3c2)c(O[C@@H]2O[C@H](CO)[C@@H](O)[C@H](O)[C@H]2O)c1',\n",
              " 'Cc1cc(O[C@@H]2O[C@H](CO)[C@@H](O)[C@H](O)[C@H]2O)c2c(CCc3ccc4occc4c3)n[nH]c2c1',\n",
              " 'Cc1cc(O[C@@H]2O[C@H](CO)[C@@H](O)[C@H](O)[C@H]2O)c2c(CCc3ccc4c(c3)CCO4)n[nH]c2c1',\n",
              " 'CCc1cc(O[C@@H]2O[C@H](CO)[C@@H](O)[C@H](O)[C@H]2O)c2c(CCc3ccc4c(c3)CCO4)n[nH]c2c1']"
            ]
          },
          "metadata": {},
          "execution_count": 23
        }
      ]
    },
    {
      "cell_type": "code",
      "metadata": {
        "colab": {
          "base_uri": "https://localhost:8080/"
        },
        "id": "fdVL1XjqLIeP",
        "outputId": "af3a4dbe-874e-46b0-e9ac-b30f202d488b"
      },
      "source": [
        "# 0 - 10,000\n",
        "%%time\n",
        "active_RF, prob_active_RF,inactive_RF,prob_inactive_RF =[],[],[],[]\n",
        "active_xgb, prob_active_xgb,inactive_xgb,prob_inactive_xgb =[],[],[],[]\n",
        "\n",
        "for i in range(len(substance[:10000])):\n",
        "\n",
        "  #check not in known data\n",
        "  if substance[i] not in sglt:\n",
        "\n",
        "    #turn to fp\n",
        "    fp = from_smiles(substance[i], fingerprints=True, descriptors=False)\n",
        "\n",
        "    #turn orderdict to numpy array  -> input model\n",
        "    input = np.array([v for k, v in fp.items()])\n",
        "\n",
        "    #reshape input to fit to model\n",
        "    input = input.reshape(1,-1)\n",
        "\n",
        "    #predict by RFmodel\n",
        "    res = rfmodel.predict(input)\n",
        "    prob_res_0, prob_res_1 = rfmodel.predict_proba(input)[0] #to prob\n",
        "    if res == 1:\n",
        "      active_RF.append(substance[i])\n",
        "      prob_active_RF.append(prob_res_1)#save prob predict active\n",
        "    else:\n",
        "      inactive_RF.append(substance[i])\n",
        "      prob_inactive_RF.append(prob_res_1)#save prob predict active\n",
        "\n",
        "    #predict by xgboost model\n",
        "    res_xgb = xgbmodel.predict(input)\n",
        "    prob_xgb_0, prob_xgb_1 = xgbmodel.predict_proba(input)[0]\n",
        "    if res_xgb == 1:\n",
        "      active_xgb.append(substance[i])\n",
        "      prob_active_xgb.append(prob_xgb_1) #save prob predict active\n",
        "    else:\n",
        "      inactive_xgb.append(substance[i])\n",
        "      prob_inactive_xgb.append(prob_xgb_1)#save prob predict active\n",
        "  if i%1000 == 0:\n",
        "    print(i)\n",
        "\n",
        "#create and save dataframe\n",
        "df_active_RF = pd.DataFrame(zip(active_RF,prob_active_RF),columns=['smiles','prob_active'])\n",
        "df_inactive_RF = pd.DataFrame(zip(inactive_RF, prob_inactive_RF), columns=['smiles','prob_active'])\n",
        "df_active_xgb = pd.DataFrame(zip(active_xgb, prob_active_xgb),columns=['smiles','prob_active'])\n",
        "df_inactive_xgb = pd.DataFrame(zip(inactive_xgb, prob_inactive_xgb),columns=['smiles','prob_active'])\n",
        "\n",
        "#save to csv files\n",
        "df_active_RF.to_csv('/content/drive/MyDrive/AI for drug/block_SGLT2/data/active0_10000RF.csv',index=None)\n",
        "df_inactive_RF.to_csv('/content/drive/MyDrive/AI for drug/block_SGLT2/data/inactive0_10000RF.csv',index=None)\n",
        "df_active_xgb.to_csv('/content/drive/MyDrive/AI for drug/block_SGLT2/data/active0_10000XGB.csv',index=None)\n",
        "df_inactive_xgb.to_csv('/content/drive/MyDrive/AI for drug/block_SGLT2/data/inactive0_10000XGB.csv',index=None)\n",
        "print('***Finished 10,000***')"
      ],
      "execution_count": null,
      "outputs": [
        {
          "output_type": "stream",
          "name": "stdout",
          "text": [
            "0\n",
            "1000\n",
            "2000\n",
            "3000\n",
            "4000\n",
            "5000\n",
            "6000\n",
            "7000\n",
            "8000\n",
            "9000\n",
            "***Finished 10,000***\n",
            "CPU times: user 15min 46s, sys: 1min 28s, total: 17min 15s\n",
            "Wall time: 15h 1min 2s\n"
          ]
        }
      ]
    },
    {
      "cell_type": "code",
      "metadata": {
        "id": "MCU0XdK5Vzmh"
      },
      "source": [
        ""
      ],
      "execution_count": null,
      "outputs": []
    }
  ]
}