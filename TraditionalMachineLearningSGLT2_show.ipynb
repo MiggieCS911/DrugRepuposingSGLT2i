{
  "nbformat": 4,
  "nbformat_minor": 0,
  "metadata": {
    "colab": {
      "name": "TraditionalMachineLearningSGLT2_show.ipynb",
      "provenance": [],
      "collapsed_sections": [
        "wgLNhr7nBATz",
        "ATie3QKoTv57"
      ],
      "toc_visible": true,
      "machine_shape": "hm",
      "mount_file_id": "1Dj-bftn9j8JWFsW4ckgXySLBrPA9Sy8I",
      "authorship_tag": "ABX9TyPg2Y8YXtTZap89hJ1QrXax",
      "include_colab_link": true
    },
    "kernelspec": {
      "name": "python3",
      "display_name": "Python 3"
    },
    "language_info": {
      "name": "python"
    },
    "accelerator": "GPU"
  },
  "cells": [
    {
      "cell_type": "markdown",
      "metadata": {
        "id": "view-in-github",
        "colab_type": "text"
      },
      "source": [
        "<a href=\"https://colab.research.google.com/github/MiggieCS911/DrugRepuposingSGLT2i/blob/main/TraditionalMachineLearningSGLT2_show.ipynb\" target=\"_parent\"><img src=\"https://colab.research.google.com/assets/colab-badge.svg\" alt=\"Open In Colab\"/></a>"
      ]
    },
    {
      "cell_type": "markdown",
      "metadata": {
        "id": "fy5z7EgZ41UC"
      },
      "source": [
        "# import libraries"
      ]
    },
    {
      "cell_type": "code",
      "metadata": {
        "id": "H-zqkLo44owV"
      },
      "source": [
        "import pandas as pd\n",
        "import numpy as np\n",
        "import matplotlib.pyplot as plt\n",
        "import seaborn as sns\n",
        "%matplotlib inline"
      ],
      "execution_count": null,
      "outputs": []
    },
    {
      "cell_type": "markdown",
      "metadata": {
        "id": "zr0LZYyU5uWE"
      },
      "source": [
        "# import data"
      ]
    },
    {
      "cell_type": "code",
      "metadata": {
        "id": "y0mBf01w5Q2O"
      },
      "source": [
        "df = pd.read_csv('/content/drive/MyDrive/AI for drug/block_SGLT2/data/sglt2i_fpdf_dropduplicates.csv')"
      ],
      "execution_count": null,
      "outputs": []
    },
    {
      "cell_type": "code",
      "metadata": {
        "colab": {
          "base_uri": "https://localhost:8080/",
          "height": 322
        },
        "id": "iVY0gv0n6YBg",
        "outputId": "65367625-8a83-442a-b4f8-df4d54ff7658"
      },
      "source": [
        "df.head()"
      ],
      "execution_count": null,
      "outputs": [
        {
          "output_type": "execute_result",
          "data": {
            "text/html": [
              "<div>\n",
              "<style scoped>\n",
              "    .dataframe tbody tr th:only-of-type {\n",
              "        vertical-align: middle;\n",
              "    }\n",
              "\n",
              "    .dataframe tbody tr th {\n",
              "        vertical-align: top;\n",
              "    }\n",
              "\n",
              "    .dataframe thead th {\n",
              "        text-align: right;\n",
              "    }\n",
              "</style>\n",
              "<table border=\"1\" class=\"dataframe\">\n",
              "  <thead>\n",
              "    <tr style=\"text-align: right;\">\n",
              "      <th></th>\n",
              "      <th>PubchemFP0</th>\n",
              "      <th>PubchemFP1</th>\n",
              "      <th>PubchemFP2</th>\n",
              "      <th>PubchemFP3</th>\n",
              "      <th>PubchemFP4</th>\n",
              "      <th>PubchemFP5</th>\n",
              "      <th>PubchemFP6</th>\n",
              "      <th>PubchemFP7</th>\n",
              "      <th>PubchemFP8</th>\n",
              "      <th>PubchemFP9</th>\n",
              "      <th>PubchemFP10</th>\n",
              "      <th>PubchemFP11</th>\n",
              "      <th>PubchemFP12</th>\n",
              "      <th>PubchemFP13</th>\n",
              "      <th>PubchemFP14</th>\n",
              "      <th>PubchemFP15</th>\n",
              "      <th>PubchemFP16</th>\n",
              "      <th>PubchemFP17</th>\n",
              "      <th>PubchemFP18</th>\n",
              "      <th>PubchemFP19</th>\n",
              "      <th>PubchemFP20</th>\n",
              "      <th>PubchemFP21</th>\n",
              "      <th>PubchemFP22</th>\n",
              "      <th>PubchemFP23</th>\n",
              "      <th>PubchemFP24</th>\n",
              "      <th>PubchemFP25</th>\n",
              "      <th>PubchemFP26</th>\n",
              "      <th>PubchemFP27</th>\n",
              "      <th>PubchemFP28</th>\n",
              "      <th>PubchemFP29</th>\n",
              "      <th>PubchemFP30</th>\n",
              "      <th>PubchemFP31</th>\n",
              "      <th>PubchemFP32</th>\n",
              "      <th>PubchemFP33</th>\n",
              "      <th>PubchemFP34</th>\n",
              "      <th>PubchemFP35</th>\n",
              "      <th>PubchemFP36</th>\n",
              "      <th>PubchemFP37</th>\n",
              "      <th>PubchemFP38</th>\n",
              "      <th>PubchemFP39</th>\n",
              "      <th>...</th>\n",
              "      <th>PubchemFP851</th>\n",
              "      <th>PubchemFP852</th>\n",
              "      <th>PubchemFP853</th>\n",
              "      <th>PubchemFP854</th>\n",
              "      <th>PubchemFP855</th>\n",
              "      <th>PubchemFP856</th>\n",
              "      <th>PubchemFP857</th>\n",
              "      <th>PubchemFP858</th>\n",
              "      <th>PubchemFP859</th>\n",
              "      <th>PubchemFP860</th>\n",
              "      <th>PubchemFP861</th>\n",
              "      <th>PubchemFP862</th>\n",
              "      <th>PubchemFP863</th>\n",
              "      <th>PubchemFP864</th>\n",
              "      <th>PubchemFP865</th>\n",
              "      <th>PubchemFP866</th>\n",
              "      <th>PubchemFP867</th>\n",
              "      <th>PubchemFP868</th>\n",
              "      <th>PubchemFP869</th>\n",
              "      <th>PubchemFP870</th>\n",
              "      <th>PubchemFP871</th>\n",
              "      <th>PubchemFP872</th>\n",
              "      <th>PubchemFP873</th>\n",
              "      <th>PubchemFP874</th>\n",
              "      <th>PubchemFP875</th>\n",
              "      <th>PubchemFP876</th>\n",
              "      <th>PubchemFP877</th>\n",
              "      <th>PubchemFP878</th>\n",
              "      <th>PubchemFP879</th>\n",
              "      <th>PubchemFP880</th>\n",
              "      <th>molecule_chembl_id</th>\n",
              "      <th>canonical_smiles</th>\n",
              "      <th>standard_value</th>\n",
              "      <th>assay_chembl_id</th>\n",
              "      <th>bioactivity</th>\n",
              "      <th>Molecular_Wt</th>\n",
              "      <th>LogP</th>\n",
              "      <th>HDonor</th>\n",
              "      <th>HAcceptor</th>\n",
              "      <th>pIC50</th>\n",
              "    </tr>\n",
              "  </thead>\n",
              "  <tbody>\n",
              "    <tr>\n",
              "      <th>0</th>\n",
              "      <td>1</td>\n",
              "      <td>1</td>\n",
              "      <td>1</td>\n",
              "      <td>0</td>\n",
              "      <td>0</td>\n",
              "      <td>0</td>\n",
              "      <td>0</td>\n",
              "      <td>0</td>\n",
              "      <td>0</td>\n",
              "      <td>1</td>\n",
              "      <td>1</td>\n",
              "      <td>1</td>\n",
              "      <td>1</td>\n",
              "      <td>0</td>\n",
              "      <td>0</td>\n",
              "      <td>0</td>\n",
              "      <td>0</td>\n",
              "      <td>0</td>\n",
              "      <td>1</td>\n",
              "      <td>1</td>\n",
              "      <td>1</td>\n",
              "      <td>1</td>\n",
              "      <td>0</td>\n",
              "      <td>0</td>\n",
              "      <td>0</td>\n",
              "      <td>0</td>\n",
              "      <td>0</td>\n",
              "      <td>0</td>\n",
              "      <td>0</td>\n",
              "      <td>0</td>\n",
              "      <td>0</td>\n",
              "      <td>0</td>\n",
              "      <td>0</td>\n",
              "      <td>0</td>\n",
              "      <td>0</td>\n",
              "      <td>0</td>\n",
              "      <td>0</td>\n",
              "      <td>0</td>\n",
              "      <td>0</td>\n",
              "      <td>0</td>\n",
              "      <td>...</td>\n",
              "      <td>0</td>\n",
              "      <td>0</td>\n",
              "      <td>0</td>\n",
              "      <td>0</td>\n",
              "      <td>0</td>\n",
              "      <td>0</td>\n",
              "      <td>0</td>\n",
              "      <td>0</td>\n",
              "      <td>0</td>\n",
              "      <td>0</td>\n",
              "      <td>0</td>\n",
              "      <td>0</td>\n",
              "      <td>0</td>\n",
              "      <td>0</td>\n",
              "      <td>0</td>\n",
              "      <td>0</td>\n",
              "      <td>0</td>\n",
              "      <td>0</td>\n",
              "      <td>0</td>\n",
              "      <td>0</td>\n",
              "      <td>0</td>\n",
              "      <td>0</td>\n",
              "      <td>0</td>\n",
              "      <td>0</td>\n",
              "      <td>0</td>\n",
              "      <td>0</td>\n",
              "      <td>0</td>\n",
              "      <td>0</td>\n",
              "      <td>0</td>\n",
              "      <td>0</td>\n",
              "      <td>CHEMBL183937</td>\n",
              "      <td>Cc1cc(O)c(C(=O)CCc2ccc3occc3c2)c(O[C@@H]2O[C@H...</td>\n",
              "      <td>11.0</td>\n",
              "      <td>CHEMBL863286</td>\n",
              "      <td>active</td>\n",
              "      <td>458.463</td>\n",
              "      <td>1.44102</td>\n",
              "      <td>5</td>\n",
              "      <td>9</td>\n",
              "      <td>7.958607</td>\n",
              "    </tr>\n",
              "    <tr>\n",
              "      <th>1</th>\n",
              "      <td>1</td>\n",
              "      <td>1</td>\n",
              "      <td>1</td>\n",
              "      <td>0</td>\n",
              "      <td>0</td>\n",
              "      <td>0</td>\n",
              "      <td>0</td>\n",
              "      <td>0</td>\n",
              "      <td>0</td>\n",
              "      <td>1</td>\n",
              "      <td>1</td>\n",
              "      <td>1</td>\n",
              "      <td>1</td>\n",
              "      <td>0</td>\n",
              "      <td>1</td>\n",
              "      <td>1</td>\n",
              "      <td>0</td>\n",
              "      <td>0</td>\n",
              "      <td>1</td>\n",
              "      <td>1</td>\n",
              "      <td>1</td>\n",
              "      <td>0</td>\n",
              "      <td>0</td>\n",
              "      <td>0</td>\n",
              "      <td>0</td>\n",
              "      <td>0</td>\n",
              "      <td>0</td>\n",
              "      <td>0</td>\n",
              "      <td>0</td>\n",
              "      <td>0</td>\n",
              "      <td>0</td>\n",
              "      <td>0</td>\n",
              "      <td>0</td>\n",
              "      <td>0</td>\n",
              "      <td>0</td>\n",
              "      <td>0</td>\n",
              "      <td>0</td>\n",
              "      <td>0</td>\n",
              "      <td>0</td>\n",
              "      <td>0</td>\n",
              "      <td>...</td>\n",
              "      <td>0</td>\n",
              "      <td>0</td>\n",
              "      <td>0</td>\n",
              "      <td>0</td>\n",
              "      <td>0</td>\n",
              "      <td>0</td>\n",
              "      <td>0</td>\n",
              "      <td>0</td>\n",
              "      <td>0</td>\n",
              "      <td>0</td>\n",
              "      <td>0</td>\n",
              "      <td>0</td>\n",
              "      <td>0</td>\n",
              "      <td>0</td>\n",
              "      <td>0</td>\n",
              "      <td>0</td>\n",
              "      <td>0</td>\n",
              "      <td>0</td>\n",
              "      <td>0</td>\n",
              "      <td>0</td>\n",
              "      <td>0</td>\n",
              "      <td>0</td>\n",
              "      <td>0</td>\n",
              "      <td>0</td>\n",
              "      <td>0</td>\n",
              "      <td>0</td>\n",
              "      <td>0</td>\n",
              "      <td>0</td>\n",
              "      <td>0</td>\n",
              "      <td>0</td>\n",
              "      <td>CHEMBL371448</td>\n",
              "      <td>Cc1cc(O[C@@H]2O[C@H](CO)[C@@H](O)[C@H](O)[C@H]...</td>\n",
              "      <td>491.0</td>\n",
              "      <td>CHEMBL863286</td>\n",
              "      <td>inactive</td>\n",
              "      <td>454.479</td>\n",
              "      <td>1.58142</td>\n",
              "      <td>5</td>\n",
              "      <td>8</td>\n",
              "      <td>6.308919</td>\n",
              "    </tr>\n",
              "    <tr>\n",
              "      <th>2</th>\n",
              "      <td>1</td>\n",
              "      <td>1</td>\n",
              "      <td>1</td>\n",
              "      <td>0</td>\n",
              "      <td>0</td>\n",
              "      <td>0</td>\n",
              "      <td>0</td>\n",
              "      <td>0</td>\n",
              "      <td>0</td>\n",
              "      <td>1</td>\n",
              "      <td>1</td>\n",
              "      <td>1</td>\n",
              "      <td>1</td>\n",
              "      <td>0</td>\n",
              "      <td>1</td>\n",
              "      <td>1</td>\n",
              "      <td>0</td>\n",
              "      <td>0</td>\n",
              "      <td>1</td>\n",
              "      <td>1</td>\n",
              "      <td>1</td>\n",
              "      <td>0</td>\n",
              "      <td>0</td>\n",
              "      <td>0</td>\n",
              "      <td>0</td>\n",
              "      <td>0</td>\n",
              "      <td>0</td>\n",
              "      <td>0</td>\n",
              "      <td>0</td>\n",
              "      <td>0</td>\n",
              "      <td>0</td>\n",
              "      <td>0</td>\n",
              "      <td>0</td>\n",
              "      <td>0</td>\n",
              "      <td>0</td>\n",
              "      <td>0</td>\n",
              "      <td>0</td>\n",
              "      <td>0</td>\n",
              "      <td>0</td>\n",
              "      <td>0</td>\n",
              "      <td>...</td>\n",
              "      <td>0</td>\n",
              "      <td>0</td>\n",
              "      <td>0</td>\n",
              "      <td>0</td>\n",
              "      <td>0</td>\n",
              "      <td>0</td>\n",
              "      <td>0</td>\n",
              "      <td>0</td>\n",
              "      <td>0</td>\n",
              "      <td>0</td>\n",
              "      <td>0</td>\n",
              "      <td>0</td>\n",
              "      <td>0</td>\n",
              "      <td>0</td>\n",
              "      <td>0</td>\n",
              "      <td>0</td>\n",
              "      <td>0</td>\n",
              "      <td>0</td>\n",
              "      <td>0</td>\n",
              "      <td>0</td>\n",
              "      <td>0</td>\n",
              "      <td>0</td>\n",
              "      <td>0</td>\n",
              "      <td>0</td>\n",
              "      <td>0</td>\n",
              "      <td>0</td>\n",
              "      <td>0</td>\n",
              "      <td>0</td>\n",
              "      <td>0</td>\n",
              "      <td>0</td>\n",
              "      <td>CHEMBL382302</td>\n",
              "      <td>Cc1cc(O[C@@H]2O[C@H](CO)[C@@H](O)[C@H](O)[C@H]...</td>\n",
              "      <td>458.0</td>\n",
              "      <td>CHEMBL863286</td>\n",
              "      <td>inactive</td>\n",
              "      <td>456.495</td>\n",
              "      <td>0.77012</td>\n",
              "      <td>5</td>\n",
              "      <td>8</td>\n",
              "      <td>6.339135</td>\n",
              "    </tr>\n",
              "    <tr>\n",
              "      <th>3</th>\n",
              "      <td>1</td>\n",
              "      <td>1</td>\n",
              "      <td>1</td>\n",
              "      <td>0</td>\n",
              "      <td>0</td>\n",
              "      <td>0</td>\n",
              "      <td>0</td>\n",
              "      <td>0</td>\n",
              "      <td>0</td>\n",
              "      <td>1</td>\n",
              "      <td>1</td>\n",
              "      <td>1</td>\n",
              "      <td>1</td>\n",
              "      <td>0</td>\n",
              "      <td>1</td>\n",
              "      <td>1</td>\n",
              "      <td>0</td>\n",
              "      <td>0</td>\n",
              "      <td>1</td>\n",
              "      <td>1</td>\n",
              "      <td>1</td>\n",
              "      <td>0</td>\n",
              "      <td>0</td>\n",
              "      <td>0</td>\n",
              "      <td>0</td>\n",
              "      <td>0</td>\n",
              "      <td>0</td>\n",
              "      <td>0</td>\n",
              "      <td>0</td>\n",
              "      <td>0</td>\n",
              "      <td>0</td>\n",
              "      <td>0</td>\n",
              "      <td>0</td>\n",
              "      <td>0</td>\n",
              "      <td>0</td>\n",
              "      <td>0</td>\n",
              "      <td>0</td>\n",
              "      <td>0</td>\n",
              "      <td>0</td>\n",
              "      <td>0</td>\n",
              "      <td>...</td>\n",
              "      <td>0</td>\n",
              "      <td>0</td>\n",
              "      <td>0</td>\n",
              "      <td>0</td>\n",
              "      <td>0</td>\n",
              "      <td>0</td>\n",
              "      <td>0</td>\n",
              "      <td>0</td>\n",
              "      <td>0</td>\n",
              "      <td>0</td>\n",
              "      <td>0</td>\n",
              "      <td>0</td>\n",
              "      <td>0</td>\n",
              "      <td>0</td>\n",
              "      <td>0</td>\n",
              "      <td>0</td>\n",
              "      <td>0</td>\n",
              "      <td>0</td>\n",
              "      <td>0</td>\n",
              "      <td>0</td>\n",
              "      <td>0</td>\n",
              "      <td>0</td>\n",
              "      <td>0</td>\n",
              "      <td>0</td>\n",
              "      <td>0</td>\n",
              "      <td>0</td>\n",
              "      <td>0</td>\n",
              "      <td>0</td>\n",
              "      <td>0</td>\n",
              "      <td>0</td>\n",
              "      <td>CHEMBL382319</td>\n",
              "      <td>CCc1cc(O[C@@H]2O[C@H](CO)[C@@H](O)[C@H](O)[C@H...</td>\n",
              "      <td>532.0</td>\n",
              "      <td>CHEMBL863286</td>\n",
              "      <td>inactive</td>\n",
              "      <td>470.522</td>\n",
              "      <td>1.02410</td>\n",
              "      <td>5</td>\n",
              "      <td>8</td>\n",
              "      <td>6.274088</td>\n",
              "    </tr>\n",
              "    <tr>\n",
              "      <th>4</th>\n",
              "      <td>1</td>\n",
              "      <td>1</td>\n",
              "      <td>1</td>\n",
              "      <td>0</td>\n",
              "      <td>0</td>\n",
              "      <td>0</td>\n",
              "      <td>0</td>\n",
              "      <td>0</td>\n",
              "      <td>0</td>\n",
              "      <td>1</td>\n",
              "      <td>1</td>\n",
              "      <td>1</td>\n",
              "      <td>1</td>\n",
              "      <td>0</td>\n",
              "      <td>1</td>\n",
              "      <td>1</td>\n",
              "      <td>0</td>\n",
              "      <td>0</td>\n",
              "      <td>1</td>\n",
              "      <td>1</td>\n",
              "      <td>1</td>\n",
              "      <td>0</td>\n",
              "      <td>0</td>\n",
              "      <td>0</td>\n",
              "      <td>0</td>\n",
              "      <td>0</td>\n",
              "      <td>0</td>\n",
              "      <td>0</td>\n",
              "      <td>0</td>\n",
              "      <td>0</td>\n",
              "      <td>0</td>\n",
              "      <td>0</td>\n",
              "      <td>0</td>\n",
              "      <td>0</td>\n",
              "      <td>0</td>\n",
              "      <td>0</td>\n",
              "      <td>0</td>\n",
              "      <td>0</td>\n",
              "      <td>0</td>\n",
              "      <td>0</td>\n",
              "      <td>...</td>\n",
              "      <td>0</td>\n",
              "      <td>0</td>\n",
              "      <td>0</td>\n",
              "      <td>0</td>\n",
              "      <td>0</td>\n",
              "      <td>0</td>\n",
              "      <td>0</td>\n",
              "      <td>0</td>\n",
              "      <td>0</td>\n",
              "      <td>0</td>\n",
              "      <td>0</td>\n",
              "      <td>0</td>\n",
              "      <td>0</td>\n",
              "      <td>0</td>\n",
              "      <td>0</td>\n",
              "      <td>0</td>\n",
              "      <td>0</td>\n",
              "      <td>0</td>\n",
              "      <td>0</td>\n",
              "      <td>0</td>\n",
              "      <td>0</td>\n",
              "      <td>0</td>\n",
              "      <td>0</td>\n",
              "      <td>0</td>\n",
              "      <td>0</td>\n",
              "      <td>0</td>\n",
              "      <td>0</td>\n",
              "      <td>0</td>\n",
              "      <td>0</td>\n",
              "      <td>0</td>\n",
              "      <td>CHEMBL200608</td>\n",
              "      <td>Cc1cc(O[C@@H]2O[C@H](CO)[C@@H](O)[C@H](O)[C@H]...</td>\n",
              "      <td>754.0</td>\n",
              "      <td>CHEMBL863286</td>\n",
              "      <td>inactive</td>\n",
              "      <td>470.522</td>\n",
              "      <td>0.78052</td>\n",
              "      <td>4</td>\n",
              "      <td>9</td>\n",
              "      <td>6.122629</td>\n",
              "    </tr>\n",
              "  </tbody>\n",
              "</table>\n",
              "<p>5 rows × 891 columns</p>\n",
              "</div>"
            ],
            "text/plain": [
              "   PubchemFP0  PubchemFP1  PubchemFP2  ...  HDonor  HAcceptor     pIC50\n",
              "0           1           1           1  ...       5          9  7.958607\n",
              "1           1           1           1  ...       5          8  6.308919\n",
              "2           1           1           1  ...       5          8  6.339135\n",
              "3           1           1           1  ...       5          8  6.274088\n",
              "4           1           1           1  ...       4          9  6.122629\n",
              "\n",
              "[5 rows x 891 columns]"
            ]
          },
          "metadata": {},
          "execution_count": 3
        }
      ]
    },
    {
      "cell_type": "code",
      "metadata": {
        "colab": {
          "base_uri": "https://localhost:8080/"
        },
        "id": "z9NZl4wlAxX2",
        "outputId": "e2b560c5-e05f-4b0f-ebac-551796fa8b2d"
      },
      "source": [
        "df.shape"
      ],
      "execution_count": null,
      "outputs": [
        {
          "output_type": "execute_result",
          "data": {
            "text/plain": [
              "(1277, 891)"
            ]
          },
          "metadata": {},
          "execution_count": 4
        }
      ]
    },
    {
      "cell_type": "code",
      "metadata": {
        "colab": {
          "base_uri": "https://localhost:8080/"
        },
        "id": "5XOdugcw7huJ",
        "outputId": "d8220c58-bdc9-4f1d-e092-e2c9e87db090"
      },
      "source": [
        "df.columns[-10:]"
      ],
      "execution_count": null,
      "outputs": [
        {
          "output_type": "execute_result",
          "data": {
            "text/plain": [
              "Index(['molecule_chembl_id', 'canonical_smiles', 'standard_value',\n",
              "       'assay_chembl_id', 'bioactivity', 'Molecular_Wt', 'LogP', 'HDonor',\n",
              "       'HAcceptor', 'pIC50'],\n",
              "      dtype='object')"
            ]
          },
          "metadata": {},
          "execution_count": 6
        }
      ]
    },
    {
      "cell_type": "markdown",
      "metadata": {
        "id": "ClTtfuIJAjVZ"
      },
      "source": [
        "# Classify Bioactivity"
      ]
    },
    {
      "cell_type": "code",
      "metadata": {
        "id": "1nMapuEX-08P"
      },
      "source": [
        "map_bioactivity = { 'inactive': 0, 'active': 1}\n",
        "\n",
        "df['bioactivity'] = df['bioactivity'].map(map_bioactivity)"
      ],
      "execution_count": null,
      "outputs": []
    },
    {
      "cell_type": "code",
      "metadata": {
        "id": "bVijWOnt6Y4F"
      },
      "source": [
        "X = df.drop([ 'molecule_chembl_id',\n",
        "       'canonical_smiles', 'standard_value', 'assay_chembl_id', 'bioactivity',\n",
        "       'Molecular_Wt', 'LogP', 'HDonor', 'HAcceptor', 'pIC50'], axis=1)"
      ],
      "execution_count": null,
      "outputs": []
    },
    {
      "cell_type": "code",
      "metadata": {
        "colab": {
          "base_uri": "https://localhost:8080/"
        },
        "id": "8Du7jJJV7umZ",
        "outputId": "6b9c2b15-a790-47ce-c1e3-1e64e4c1cb1b"
      },
      "source": [
        "X.shape"
      ],
      "execution_count": null,
      "outputs": [
        {
          "output_type": "execute_result",
          "data": {
            "text/plain": [
              "(1277, 881)"
            ]
          },
          "metadata": {},
          "execution_count": 9
        }
      ]
    },
    {
      "cell_type": "code",
      "metadata": {
        "colab": {
          "base_uri": "https://localhost:8080/"
        },
        "id": "RPxEp2VZ7wtt",
        "outputId": "329d6e5b-0ac0-4ba7-bed0-16e513301f57"
      },
      "source": [
        "y = df['bioactivity']\n",
        "y.shape"
      ],
      "execution_count": null,
      "outputs": [
        {
          "output_type": "execute_result",
          "data": {
            "text/plain": [
              "(1277,)"
            ]
          },
          "metadata": {},
          "execution_count": 10
        }
      ]
    },
    {
      "cell_type": "markdown",
      "metadata": {
        "id": "ODdzY0zf7_Up"
      },
      "source": [
        "# train test split"
      ]
    },
    {
      "cell_type": "code",
      "metadata": {
        "id": "SQJH0U5J77aQ"
      },
      "source": [
        "from sklearn.model_selection import train_test_split"
      ],
      "execution_count": null,
      "outputs": []
    },
    {
      "cell_type": "code",
      "metadata": {
        "id": "rf7YS_L49ix-"
      },
      "source": [
        "X_train, X_test, y_train, y_test = train_test_split(X, y, test_size=0.2, random_state=911)"
      ],
      "execution_count": null,
      "outputs": []
    },
    {
      "cell_type": "markdown",
      "metadata": {
        "id": "okO4ZuWVj1Fb"
      },
      "source": [
        "# Predict class of Bioactivity"
      ]
    },
    {
      "cell_type": "markdown",
      "metadata": {
        "id": "wgLNhr7nBATz"
      },
      "source": [
        "## Random Forest"
      ]
    },
    {
      "cell_type": "code",
      "metadata": {
        "id": "7ILqfnTc-bIy"
      },
      "source": [
        "from sklearn.ensemble import RandomForestClassifier\n",
        "from sklearn.metrics import classification_report, confusion_matrix, roc_curve,roc_auc_score\n",
        "from sklearn.model_selection import RandomizedSearchCV"
      ],
      "execution_count": null,
      "outputs": []
    },
    {
      "cell_type": "code",
      "metadata": {
        "colab": {
          "base_uri": "https://localhost:8080/"
        },
        "id": "nXSEyxilBeVn",
        "outputId": "96df08b2-f730-41fd-c5a7-c99ec9ce537e"
      },
      "source": [
        "# randomserachcv\n",
        "#seed\n",
        "np.random.seed(911)\n",
        "param_dict = {\n",
        "    'bootstrap':[True],\n",
        "    'max_depth': [10,20,30,50,100,200],\n",
        "    'min_samples_split': [4,8,12,20,30],\n",
        "    'min_samples_leaf': [4,8,12,20,30],\n",
        "    'n_estimators': [100,200,300,400],\n",
        "    'max_features': [2,4,6,8]\n",
        "}\n",
        "rf = RandomForestClassifier(\n",
        "    class_weight = 'balanced'\n",
        ")\n",
        "\n",
        "gridrf = RandomizedSearchCV(\n",
        "    estimator = rf,\n",
        "    param_distributions = param_dict,\n",
        "    cv = 10,\n",
        "    n_iter = 100,\n",
        "    random_state = 12345,\n",
        "    n_jobs = -1,\n",
        "    verbose = 2\n",
        ")\n",
        "\n",
        "%time gridrf.fit(X_train,y_train)"
      ],
      "execution_count": null,
      "outputs": [
        {
          "output_type": "stream",
          "name": "stdout",
          "text": [
            "Fitting 10 folds for each of 100 candidates, totalling 1000 fits\n",
            "CPU times: user 5.99 s, sys: 256 ms, total: 6.25 s\n",
            "Wall time: 2min 38s\n"
          ]
        },
        {
          "output_type": "execute_result",
          "data": {
            "text/plain": [
              "RandomizedSearchCV(cv=10,\n",
              "                   estimator=RandomForestClassifier(class_weight='balanced'),\n",
              "                   n_iter=100, n_jobs=-1,\n",
              "                   param_distributions={'bootstrap': [True],\n",
              "                                        'max_depth': [10, 20, 30, 50, 100, 200],\n",
              "                                        'max_features': [2, 4, 6, 8],\n",
              "                                        'min_samples_leaf': [4, 8, 12, 20, 30],\n",
              "                                        'min_samples_split': [4, 8, 12, 20, 30],\n",
              "                                        'n_estimators': [100, 200, 300, 400]},\n",
              "                   random_state=12345, verbose=2)"
            ]
          },
          "metadata": {},
          "execution_count": 15
        }
      ]
    },
    {
      "cell_type": "code",
      "metadata": {
        "colab": {
          "base_uri": "https://localhost:8080/"
        },
        "id": "oyt0Yc1PEiCr",
        "outputId": "648118b7-19f7-46fd-b2df-640733b434cb"
      },
      "source": [
        "gridrf.best_estimator_"
      ],
      "execution_count": null,
      "outputs": [
        {
          "output_type": "execute_result",
          "data": {
            "text/plain": [
              "RandomForestClassifier(class_weight='balanced', max_depth=100, max_features=8,\n",
              "                       min_samples_leaf=4, min_samples_split=8,\n",
              "                       n_estimators=400)"
            ]
          },
          "metadata": {},
          "execution_count": 16
        }
      ]
    },
    {
      "cell_type": "code",
      "metadata": {
        "colab": {
          "base_uri": "https://localhost:8080/"
        },
        "id": "cQeP_RQeGYtX",
        "outputId": "f2440877-89da-4cc4-ce6b-7fbe3a4bb594"
      },
      "source": [
        "gridrf.best_params_"
      ],
      "execution_count": null,
      "outputs": [
        {
          "output_type": "execute_result",
          "data": {
            "text/plain": [
              "{'bootstrap': True,\n",
              " 'max_depth': 100,\n",
              " 'max_features': 8,\n",
              " 'min_samples_leaf': 4,\n",
              " 'min_samples_split': 8,\n",
              " 'n_estimators': 400}"
            ]
          },
          "metadata": {},
          "execution_count": 17
        }
      ]
    },
    {
      "cell_type": "code",
      "metadata": {
        "colab": {
          "base_uri": "https://localhost:8080/"
        },
        "id": "J8PeLqgpGdpk",
        "outputId": "52e614df-6a84-4d01-a4cb-6b67d6c2a6c9"
      },
      "source": [
        "gridrf.best_score_"
      ],
      "execution_count": null,
      "outputs": [
        {
          "output_type": "execute_result",
          "data": {
            "text/plain": [
              "0.7806301161241195"
            ]
          },
          "metadata": {},
          "execution_count": 18
        }
      ]
    },
    {
      "cell_type": "code",
      "metadata": {
        "colab": {
          "base_uri": "https://localhost:8080/"
        },
        "id": "rwaFJR8_Ggmt",
        "outputId": "c0886bc0-59e8-4821-bc0a-cd954c4f2816"
      },
      "source": [
        "y_pred_rf =  gridrf.predict(X_test)\n",
        "\n",
        "print(confusion_matrix(y_test,y_pred_rf))\n",
        "print(classification_report(y_test,y_pred_rf))"
      ],
      "execution_count": null,
      "outputs": [
        {
          "output_type": "stream",
          "name": "stdout",
          "text": [
            "[[ 82  42]\n",
            " [ 17 115]]\n",
            "              precision    recall  f1-score   support\n",
            "\n",
            "           0       0.83      0.66      0.74       124\n",
            "           1       0.73      0.87      0.80       132\n",
            "\n",
            "    accuracy                           0.77       256\n",
            "   macro avg       0.78      0.77      0.77       256\n",
            "weighted avg       0.78      0.77      0.77       256\n",
            "\n"
          ]
        }
      ]
    },
    {
      "cell_type": "code",
      "metadata": {
        "colab": {
          "base_uri": "https://localhost:8080/",
          "height": 422
        },
        "id": "fh73DpJ6G5Hx",
        "outputId": "fdb57d2c-e06f-44e6-f6d5-312e2a67725f"
      },
      "source": [
        "y_predictProb_rf = gridrf.predict_proba(X_test)\n",
        "y_predictProb_rf = y_predictProb_rf[:,1]\n",
        "\n",
        "fpr_rf, tpr_rf, _ = roc_curve(y_test,y_predictProb_rf)\n",
        "\n",
        "#plot graph\n",
        "plt.figure(figsize=(6,6))\n",
        "plt.plot(fpr_rf,tpr_rf, marker='o', label='Random Forest')\n",
        "\n",
        "plt.xlabel('False Positive Rate')\n",
        "plt.ylabel('True Positive Rate')\n",
        "plt.title('RF')\n",
        "plt.legend()\n",
        "# plt.savefig('/content/drive/MyDrive/AI for drug/block_SGLT2/results/RF_AUC.jpg', dpi = 800)\n",
        "plt.show()\n",
        "# plt.savefig('/content/drive/MyDrive/AI for drug/block_SGLT2/results/RF_AUC.jpg', dpi = 800)\n",
        "print(f'ROC AUC of RF: {roc_auc_score(y_test,y_predictProb_rf)}')"
      ],
      "execution_count": null,
      "outputs": [
        {
          "output_type": "display_data",
          "data": {
            "image/png": "[encoded data removed]",
            "text/plain": [
              "<Figure size 432x432 with 1 Axes>"
            ]
          },
          "metadata": {
            "needs_background": "light"
          }
        },
        {
          "output_type": "stream",
          "name": "stdout",
          "text": [
            "ROC AUC of RF: 0.8796432062561095\n"
          ]
        }
      ]
    },
    {
      "cell_type": "code",
      "metadata": {
        "id": "3JSbXXrmSQmn"
      },
      "source": [
        "np.random.seed(911)\n",
        "rf = RandomForestClassifier(\n",
        "    class_weight = 'balanced',\n",
        "    bootstrap = True,\n",
        "    max_depth = 100,\n",
        "    max_features = 8,\n",
        "    min_samples_leaf = 4,\n",
        "    min_samples_split = 8,\n",
        "    n_estimators = 400,\n",
        "    # random_state=12345,\n",
        ").fit(X_train,y_train)"
      ],
      "execution_count": null,
      "outputs": []
    },
    {
      "cell_type": "code",
      "metadata": {
        "colab": {
          "base_uri": "https://localhost:8080/"
        },
        "id": "0zX3otRHS7mG",
        "outputId": "8737055f-7bcd-4452-fd5d-b03e965b8d95"
      },
      "source": [
        "y_pred_rf =  rf.predict(X_test)\n",
        "\n",
        "print(confusion_matrix(y_test,y_pred_rf))\n",
        "print(classification_report(y_test,y_pred_rf))"
      ],
      "execution_count": null,
      "outputs": [
        {
          "output_type": "stream",
          "name": "stdout",
          "text": [
            "[[ 82  42]\n",
            " [ 17 115]]\n",
            "              precision    recall  f1-score   support\n",
            "\n",
            "           0       0.83      0.66      0.74       124\n",
            "           1       0.73      0.87      0.80       132\n",
            "\n",
            "    accuracy                           0.77       256\n",
            "   macro avg       0.78      0.77      0.77       256\n",
            "weighted avg       0.78      0.77      0.77       256\n",
            "\n"
          ]
        }
      ]
    },
    {
      "cell_type": "code",
      "metadata": {
        "id": "GnvvzSp_TEOB"
      },
      "source": [
        "import pickle\n",
        "# filename = '/content/drive/MyDrive/AI for drug/block_SGLT2/results/RFmodel_dropduplicates_bioactivity_class.sav'\n",
        "# pickle.dump(rf, open(filename, 'wb'))"
      ],
      "execution_count": null,
      "outputs": []
    },
    {
      "cell_type": "markdown",
      "metadata": {
        "id": "ATie3QKoTv57"
      },
      "source": [
        "## XGBoost"
      ]
    },
    {
      "cell_type": "code",
      "metadata": {
        "colab": {
          "base_uri": "https://localhost:8080/"
        },
        "id": "I6BO40UPTpaF",
        "outputId": "5b87f724-163c-4d61-de8f-bc6f25eafa93"
      },
      "source": [
        "!pip install xgboost==1.3.3"
      ],
      "execution_count": null,
      "outputs": [
        {
          "output_type": "stream",
          "name": "stdout",
          "text": [
            "Collecting xgboost==1.3.3\n",
            "  Downloading xgboost-1.3.3-py3-none-manylinux2010_x86_64.whl (157.5 MB)\n",
            "\u001b[K     |████████████████████████████████| 157.5 MB 21 kB/s \n",
            "\u001b[?25hRequirement already satisfied: scipy in /usr/local/lib/python3.7/dist-packages (from xgboost==1.3.3) (1.4.1)\n",
            "Requirement already satisfied: numpy in /usr/local/lib/python3.7/dist-packages (from xgboost==1.3.3) (1.19.5)\n",
            "Installing collected packages: xgboost\n",
            "  Attempting uninstall: xgboost\n",
            "    Found existing installation: xgboost 0.90\n",
            "    Uninstalling xgboost-0.90:\n",
            "      Successfully uninstalled xgboost-0.90\n",
            "Successfully installed xgboost-1.3.3\n"
          ]
        }
      ]
    },
    {
      "cell_type": "code",
      "metadata": {
        "id": "E33I4bxLT5Zg"
      },
      "source": [
        "import xgboost as xgb"
      ],
      "execution_count": null,
      "outputs": []
    },
    {
      "cell_type": "code",
      "metadata": {
        "id": "cfPD7W-WUIjv"
      },
      "source": [
        "from sklearn.metrics import make_scorer\n",
        "from sklearn.model_selection import RandomizedSearchCV, GridSearchCV, StratifiedKFold\n",
        "from sklearn.metrics import accuracy_score"
      ],
      "execution_count": null,
      "outputs": []
    },
    {
      "cell_type": "code",
      "metadata": {
        "colab": {
          "base_uri": "https://localhost:8080/"
        },
        "id": "hn0ElGCBUL1x",
        "outputId": "1bc795df-c48d-48cb-ee30-1f43c0c9e923"
      },
      "source": [
        "# from sklearn.metrics import make_scorer\n",
        "# from sklearn.model_selection import RandomizedSearchCV, GridSearchCV, StratifiedKFold\n",
        "np.random.seed(911)\n",
        "\n",
        "# create a default XGBoost classifier\n",
        "xgbc = xgb.XGBClassifier(\n",
        "    tree_method = 'gpu_hist',\n",
        "    random_state=12345, \n",
        "    eval_metric=[\"error\", \"auc\"]\n",
        ")\n",
        "# Create the grid search parameter grid and scoring funcitons\n",
        "param_grid = {\n",
        "    \"learning_rate\": [0.1, 0.05, 0.02],\n",
        "    \"colsample_bytree\": [0.4, 0.6, 1.0],\n",
        "    \"subsample\": [0.6, 0.8, 1.0],\n",
        "    \"max_depth\": [ 8,10,12,16,20,24],\n",
        "    \"n_estimators\": [100, 200, 300,400,500],\n",
        "    \"reg_lambda\": [1, 1.5, 2],\n",
        "    \"gamma\": [0, 0.1, 0.3],\n",
        "}\n",
        "scoring = {\n",
        "    'AUC': 'roc_auc', \n",
        "    'Accuracy': make_scorer(accuracy_score)\n",
        "}\n",
        "# create the Kfold object\n",
        "num_folds = 10\n",
        "kfold = StratifiedKFold(n_splits=num_folds)\n",
        "# create the grid search object\n",
        "n_iter=50\n",
        "grid_xgb = RandomizedSearchCV(\n",
        "    estimator=xgbc, \n",
        "    param_distributions=param_grid,\n",
        "    cv=kfold,\n",
        "    random_state=12345,\n",
        "    scoring=scoring,\n",
        "    n_jobs=-1,\n",
        "    n_iter=n_iter,\n",
        "    refit=\"AUC\",\n",
        ")\n",
        "# fit grid search\n",
        "%time xgb_best = grid_xgb.fit(X_train,y_train)"
      ],
      "execution_count": null,
      "outputs": [
        {
          "output_type": "stream",
          "name": "stderr",
          "text": [
            "/usr/local/lib/python3.7/dist-packages/xgboost/sklearn.py:888: UserWarning: The use of label encoder in XGBClassifier is deprecated and will be removed in a future release. To remove this warning, do the following: 1) Pass option use_label_encoder=False when constructing XGBClassifier object; and 2) Encode your labels (y) as integers starting with 0, i.e. 0, 1, 2, ..., [num_class - 1].\n",
            "  warnings.warn(label_encoder_deprecation_msg, UserWarning)\n"
          ]
        },
        {
          "output_type": "stream",
          "name": "stdout",
          "text": [
            "CPU times: user 20.6 s, sys: 1.67 s, total: 22.2 s\n",
            "Wall time: 40min 12s\n"
          ]
        }
      ]
    },
    {
      "cell_type": "code",
      "metadata": {
        "colab": {
          "base_uri": "https://localhost:8080/"
        },
        "id": "wLD3Md1pVFj1",
        "outputId": "3ab883dd-acd5-40b2-d1a2-ac028b6ccc60"
      },
      "source": [
        "xgb_best.best_estimator_"
      ],
      "execution_count": null,
      "outputs": [
        {
          "output_type": "execute_result",
          "data": {
            "text/plain": [
              "XGBClassifier(base_score=0.5, booster='gbtree', colsample_bylevel=1,\n",
              "              colsample_bynode=1, colsample_bytree=0.6,\n",
              "              eval_metric=['error', 'auc'], gamma=0.3, gpu_id=0,\n",
              "              importance_type='gain', interaction_constraints='',\n",
              "              learning_rate=0.02, max_delta_step=0, max_depth=20,\n",
              "              min_child_weight=1, missing=nan, monotone_constraints='()',\n",
              "              n_estimators=400, n_jobs=4, num_parallel_tree=1,\n",
              "              random_state=12345, reg_alpha=0, reg_lambda=1, scale_pos_weight=1,\n",
              "              subsample=0.6, tree_method='gpu_hist', validate_parameters=1,\n",
              "              verbosity=None)"
            ]
          },
          "metadata": {},
          "execution_count": 28
        }
      ]
    },
    {
      "cell_type": "code",
      "metadata": {
        "colab": {
          "base_uri": "https://localhost:8080/"
        },
        "id": "xm_FLyMwfWXh",
        "outputId": "5c8678ed-0af2-4327-cfcf-2a79ceb60fd0"
      },
      "source": [
        "xgb_best.best_score_"
      ],
      "execution_count": null,
      "outputs": [
        {
          "output_type": "execute_result",
          "data": {
            "text/plain": [
              "0.8995131967515688"
            ]
          },
          "metadata": {},
          "execution_count": 29
        }
      ]
    },
    {
      "cell_type": "code",
      "metadata": {
        "colab": {
          "base_uri": "https://localhost:8080/"
        },
        "id": "flbcEeLFfZvZ",
        "outputId": "e94825f8-e6a1-4043-cff7-f059a93541ff"
      },
      "source": [
        "xgb_best.best_params_"
      ],
      "execution_count": null,
      "outputs": [
        {
          "output_type": "execute_result",
          "data": {
            "text/plain": [
              "{'colsample_bytree': 0.6,\n",
              " 'gamma': 0.3,\n",
              " 'learning_rate': 0.02,\n",
              " 'max_depth': 20,\n",
              " 'n_estimators': 400,\n",
              " 'reg_lambda': 1,\n",
              " 'subsample': 0.6}"
            ]
          },
          "metadata": {},
          "execution_count": 30
        }
      ]
    },
    {
      "cell_type": "code",
      "metadata": {
        "colab": {
          "base_uri": "https://localhost:8080/"
        },
        "id": "zdl2TqO8fdIK",
        "outputId": "92d5823b-4bf1-4844-a345-0ba45d37f7c7"
      },
      "source": [
        "y_pred_xgb = xgb_best.predict(X_test)\n",
        "\n",
        "print(confusion_matrix(y_test,y_pred_xgb))\n",
        "print(classification_report(y_test,y_pred_xgb))"
      ],
      "execution_count": null,
      "outputs": [
        {
          "output_type": "stream",
          "name": "stdout",
          "text": [
            "[[ 87  37]\n",
            " [ 11 121]]\n",
            "              precision    recall  f1-score   support\n",
            "\n",
            "           0       0.89      0.70      0.78       124\n",
            "           1       0.77      0.92      0.83       132\n",
            "\n",
            "    accuracy                           0.81       256\n",
            "   macro avg       0.83      0.81      0.81       256\n",
            "weighted avg       0.82      0.81      0.81       256\n",
            "\n"
          ]
        }
      ]
    },
    {
      "cell_type": "code",
      "metadata": {
        "colab": {
          "base_uri": "https://localhost:8080/",
          "height": 422
        },
        "id": "UXlshbF_fglh",
        "outputId": "23b43b31-a5bf-440b-90b2-2b3a121b402c"
      },
      "source": [
        "y_predictProb_xgb = xgb_best.predict_proba(X_test)\n",
        "y_predictProb_xgb = y_predictProb_xgb[:,1]\n",
        "\n",
        "fpr, tpr, _ = roc_curve(y_test,y_predictProb_xgb)\n",
        "\n",
        "#plot graph\n",
        "plt.figure(figsize=(6,6))\n",
        "plt.plot(fpr,tpr, marker='o', label='XGB')\n",
        "\n",
        "plt.xlabel('False Positive Rate')\n",
        "plt.ylabel('True Positive Rate')\n",
        "plt.title('XGB')\n",
        "plt.legend()\n",
        "# plt.savefig('/content/drive/MyDrive/AI for drug/block_SGLT2/results/xgb_AUC.jpg', dpi = 800)\n",
        "plt.show()\n",
        "print(f'ROC AUC of XGB: {roc_auc_score(y_test,y_predictProb_xgb)}')"
      ],
      "execution_count": null,
      "outputs": [
        {
          "output_type": "display_data",
          "data": {
            "image/png": "[encoded data removed]",
            "text/plain": [
              "<Figure size 432x432 with 1 Axes>"
            ]
          },
          "metadata": {
            "needs_background": "light"
          }
        },
        {
          "output_type": "stream",
          "name": "stdout",
          "text": [
            "ROC AUC of XGB: 0.9141006842619747\n"
          ]
        }
      ]
    },
    {
      "cell_type": "code",
      "metadata": {
        "colab": {
          "base_uri": "https://localhost:8080/"
        },
        "id": "wXdPy6UtiyT9",
        "outputId": "51fddb11-cf03-42e0-f22f-a145c347dcba"
      },
      "source": [
        "np.random.seed(911)\n",
        "xgb = xgb.XGBClassifier(\n",
        "    colsample_bytree = 0.6,\n",
        "    gamma = 0.3,\n",
        "    learning_rate = 0.02,\n",
        "    max_depth = 20,\n",
        "    n_estimators = 400,\n",
        "    reg_lambda = 1,\n",
        "    subsample = 0.6,\n",
        ").fit(X_train,y_train)"
      ],
      "execution_count": null,
      "outputs": [
        {
          "output_type": "stream",
          "name": "stderr",
          "text": [
            "/usr/local/lib/python3.7/dist-packages/xgboost/sklearn.py:888: UserWarning: The use of label encoder in XGBClassifier is deprecated and will be removed in a future release. To remove this warning, do the following: 1) Pass option use_label_encoder=False when constructing XGBClassifier object; and 2) Encode your labels (y) as integers starting with 0, i.e. 0, 1, 2, ..., [num_class - 1].\n",
            "  warnings.warn(label_encoder_deprecation_msg, UserWarning)\n"
          ]
        },
        {
          "output_type": "stream",
          "name": "stdout",
          "text": [
            "[08:41:39] WARNING: ../src/learner.cc:1061: Starting in XGBoost 1.3.0, the default evaluation metric used with the objective 'binary:logistic' was changed from 'error' to 'logloss'. Explicitly set eval_metric if you'd like to restore the old behavior.\n"
          ]
        }
      ]
    },
    {
      "cell_type": "code",
      "metadata": {
        "colab": {
          "base_uri": "https://localhost:8080/"
        },
        "id": "haw-KeObjOJK",
        "outputId": "5de14149-b583-4644-8c57-f0e91308cd52"
      },
      "source": [
        "y_pred_xgb = xgb.predict(X_test)\n",
        "\n",
        "print(confusion_matrix(y_test,y_pred_xgb))\n",
        "print(classification_report(y_test,y_pred_xgb))"
      ],
      "execution_count": null,
      "outputs": [
        {
          "output_type": "stream",
          "name": "stdout",
          "text": [
            "[[ 88  36]\n",
            " [ 14 118]]\n",
            "              precision    recall  f1-score   support\n",
            "\n",
            "           0       0.86      0.71      0.78       124\n",
            "           1       0.77      0.89      0.83       132\n",
            "\n",
            "    accuracy                           0.80       256\n",
            "   macro avg       0.81      0.80      0.80       256\n",
            "weighted avg       0.81      0.80      0.80       256\n",
            "\n"
          ]
        }
      ]
    },
    {
      "cell_type": "code",
      "metadata": {
        "id": "Ko0LHSm0fmqN"
      },
      "source": [
        "import json\n",
        "# xgb.save_model('/content/drive/MyDrive/AI for drug/block_SGLT2/results/xgb_dropduplicates_bioactivity_class.json') "
      ],
      "execution_count": null,
      "outputs": []
    }
  ]
}